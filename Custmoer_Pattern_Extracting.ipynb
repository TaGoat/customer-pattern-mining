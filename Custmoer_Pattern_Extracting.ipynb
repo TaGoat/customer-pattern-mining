{
 "cells": [
  {
   "cell_type": "markdown",
   "id": "08c2fe4f",
   "metadata": {
    "papermill": {
     "duration": 0.037313,
     "end_time": "2024-04-07T19:29:55.801446",
     "exception": false,
     "start_time": "2024-04-07T19:29:55.764133",
     "status": "completed"
    },
    "tags": []
   },
   "source": [
    "<a id=\"setup\"></a>\n",
    "# <p style=\"background-color: #ff6200; font-family:calibri; color:white; font-size:140%; font-family:Verdana; text-align:center; border-radius:15px 50px;\">Step 1 | Setup and Initialization</p>\n"
   ]
  },
  {
   "cell_type": "markdown",
   "id": "da54ac7d",
   "metadata": {
    "papermill": {
     "duration": 0.036853,
     "end_time": "2024-04-07T19:29:55.875647",
     "exception": false,
     "start_time": "2024-04-07T19:29:55.838794",
     "status": "completed"
    },
    "tags": []
   },
   "source": [
    "<a id=\"libraries\"></a>\n",
    "# <b><span style='color:#fcc36d'>Step 1.1 |</span><span style='color:#ff6200'> Importing Necessary Libraries</span></b>\n"
   ]
  },
  {
   "cell_type": "code",
   "execution_count": 1,
   "id": "a95cd129",
   "metadata": {
    "execution": {
     "iopub.execute_input": "2024-04-07T19:29:56.026843Z",
     "iopub.status.busy": "2024-04-07T19:29:56.026351Z",
     "iopub.status.idle": "2024-04-07T19:29:59.143054Z",
     "shell.execute_reply": "2024-04-07T19:29:59.141827Z"
    },
    "papermill": {
     "duration": 3.158071,
     "end_time": "2024-04-07T19:29:59.145810",
     "exception": false,
     "start_time": "2024-04-07T19:29:55.987739",
     "status": "completed"
    },
    "tags": []
   },
   "outputs": [],
   "source": [
    "import warnings\n",
    "warnings.filterwarnings('ignore')\n",
    "\n",
    "import numpy as np\n",
    "import pandas as pd\n",
    "import seaborn as sns\n",
    "import matplotlib.pyplot as plt"
   ]
  },
  {
   "cell_type": "markdown",
   "id": "c3b6e6d9",
   "metadata": {
    "papermill": {
     "duration": 0.037752,
     "end_time": "2024-04-07T19:29:59.585549",
     "exception": false,
     "start_time": "2024-04-07T19:29:59.547797",
     "status": "completed"
    },
    "tags": []
   },
   "source": [
    "<a id=\"load_dataset\"></a>\n",
    "# <b><span style='color:#fcc36d'>Step 1.2 |</span><span style='color:#ff6200'> Loading the Dataset</span></b>\n"
   ]
  },
  {
   "cell_type": "code",
   "execution_count": 2,
   "id": "15fbf863",
   "metadata": {
    "execution": {
     "iopub.execute_input": "2024-04-07T19:29:59.747307Z",
     "iopub.status.busy": "2024-04-07T19:29:59.746544Z",
     "iopub.status.idle": "2024-04-07T19:30:02.809541Z",
     "shell.execute_reply": "2024-04-07T19:30:02.808277Z"
    },
    "papermill": {
     "duration": 3.110495,
     "end_time": "2024-04-07T19:30:02.812292",
     "exception": false,
     "start_time": "2024-04-07T19:29:59.701797",
     "status": "completed"
    },
    "tags": []
   },
   "outputs": [],
   "source": [
    "df = pd.read_csv('transaction_data.csv',na_values=(\" \",\"?\",\"_\",\"-1\"), encoding=\"ISO-8859-1\")"
   ]
  },
  {
   "cell_type": "code",
   "execution_count": 3,
   "id": "5b7cb31a",
   "metadata": {
    "execution": {
     "iopub.execute_input": "2024-04-07T19:30:02.891335Z",
     "iopub.status.busy": "2024-04-07T19:30:02.890940Z",
     "iopub.status.idle": "2024-04-07T19:30:02.926219Z",
     "shell.execute_reply": "2024-04-07T19:30:02.925061Z"
    },
    "papermill": {
     "duration": 0.078139,
     "end_time": "2024-04-07T19:30:02.928618",
     "exception": false,
     "start_time": "2024-04-07T19:30:02.850479",
     "status": "completed"
    },
    "tags": []
   },
   "outputs": [
    {
     "data": {
      "text/plain": [
       "Index(['UserId', 'TransactionId', 'TransactionTime', 'ItemCode',\n",
       "       'ItemDescription', 'NumberOfItemsPurchased', 'CostPerItem', 'Country'],\n",
       "      dtype='object')"
      ]
     },
     "execution_count": 3,
     "metadata": {},
     "output_type": "execute_result"
    }
   ],
   "source": [
    "df.columns"
   ]
  },
  {
   "cell_type": "code",
   "execution_count": 4,
   "id": "a754349a",
   "metadata": {
    "execution": {
     "iopub.execute_input": "2024-04-07T19:30:03.009383Z",
     "iopub.status.busy": "2024-04-07T19:30:03.008232Z",
     "iopub.status.idle": "2024-04-07T19:30:05.058677Z",
     "shell.execute_reply": "2024-04-07T19:30:05.057836Z"
    },
    "papermill": {
     "duration": 2.092635,
     "end_time": "2024-04-07T19:30:05.060996",
     "exception": false,
     "start_time": "2024-04-07T19:30:02.968361",
     "status": "completed"
    },
    "tags": []
   },
   "outputs": [],
   "source": [
    "column_mappings = {\n",
    "    'UserId': 'CustomerID',\n",
    "    'TransactionId': 'InvoiceNo',\n",
    "    'TransactionTime': 'InvoiceDate',\n",
    "    'ItemCode': 'StockCode',\n",
    "    'ItemDescription': 'Description',\n",
    "    'NumberOfItemsPurchased': 'Quantity',\n",
    "    'CostPerItem': 'UnitPrice',\n",
    "    'Country': 'Country'  \n",
    "    }\n",
    "\n",
    "df = df.rename(columns=column_mappings)\n",
    "\n",
    "df = df.sort_values(by='InvoiceDate')"
   ]
  },
  {
   "cell_type": "markdown",
   "id": "ccef3898",
   "metadata": {
    "papermill": {
     "duration": 0.03781,
     "end_time": "2024-04-07T19:30:05.137011",
     "exception": false,
     "start_time": "2024-04-07T19:30:05.099201",
     "status": "completed"
    },
    "tags": []
   },
   "source": [
    "<div style=\"border-radius:10px; padding: 15px; background-color: #f; font-size:130%; text-align:left\">\n",
    "\n",
    "<h2 align=\"left\"><font color=#ff6200>Dataset Description:</font></h2>\n",
    "\n",
    "| __Variable__   | __Description__ |\n",
    "|     :---       |       :---      |      \n",
    "| __InvoiceNo__  | Code representing each unique transaction.  If this code starts with letter 'c', it indicates a cancellation. |\n",
    "| __StockCode__  | Code uniquely assigned to each distinct product. |\n",
    "| __Description__| Description of each product. |\n",
    "| __Quantity__   | The number of units of a product in a transaction. |\n",
    "| __InvoiceDate__| The date and time of the transaction. |\n",
    "| __UnitPrice__  | The unit price of the product in sterling. |\n",
    "| __CustomerID__ | Identifier uniquely assigned to each customer. |\n",
    "| __Country__    | The country of the customer. |\n"
   ]
  },
  {
   "cell_type": "markdown",
   "id": "57c02c8c",
   "metadata": {
    "papermill": {
     "duration": 0.037997,
     "end_time": "2024-04-07T19:30:05.213037",
     "exception": false,
     "start_time": "2024-04-07T19:30:05.175040",
     "status": "completed"
    },
    "tags": []
   },
   "source": [
    "<a id=\"initial_analysis\"></a>\n",
    "# <p style=\"background-color: #ff6200; font-family:calibri; color:white; font-size:140%; font-family:Verdana; text-align:center; border-radius:15px 50px;\">Step 2 | Initial Data Analysis</p>\n"
   ]
  },
  {
   "cell_type": "code",
   "execution_count": 5,
   "id": "8a1619af",
   "metadata": {
    "execution": {
     "iopub.execute_input": "2024-04-07T19:30:05.518428Z",
     "iopub.status.busy": "2024-04-07T19:30:05.517770Z",
     "iopub.status.idle": "2024-04-07T19:30:05.533739Z",
     "shell.execute_reply": "2024-04-07T19:30:05.532630Z"
    },
    "papermill": {
     "duration": 0.057769,
     "end_time": "2024-04-07T19:30:05.535738",
     "exception": false,
     "start_time": "2024-04-07T19:30:05.477969",
     "status": "completed"
    },
    "tags": []
   },
   "outputs": [
    {
     "data": {
      "text/html": [
       "<div>\n",
       "<style scoped>\n",
       "    .dataframe tbody tr th:only-of-type {\n",
       "        vertical-align: middle;\n",
       "    }\n",
       "\n",
       "    .dataframe tbody tr th {\n",
       "        vertical-align: top;\n",
       "    }\n",
       "\n",
       "    .dataframe thead th {\n",
       "        text-align: right;\n",
       "    }\n",
       "</style>\n",
       "<table border=\"1\" class=\"dataframe\">\n",
       "  <thead>\n",
       "    <tr style=\"text-align: right;\">\n",
       "      <th></th>\n",
       "      <th>CustomerID</th>\n",
       "      <th>InvoiceNo</th>\n",
       "      <th>InvoiceDate</th>\n",
       "      <th>StockCode</th>\n",
       "      <th>Description</th>\n",
       "      <th>Quantity</th>\n",
       "      <th>UnitPrice</th>\n",
       "      <th>Country</th>\n",
       "    </tr>\n",
       "  </thead>\n",
       "  <tbody>\n",
       "    <tr>\n",
       "      <th>432402</th>\n",
       "      <td>362103.0</td>\n",
       "      <td>5960185</td>\n",
       "      <td>Fri Apr 06 06:15:00 IST 2018</td>\n",
       "      <td>1528779.0</td>\n",
       "      <td>PINK PILLAR CANDLE SILVER FLOCK</td>\n",
       "      <td>3</td>\n",
       "      <td>4.08</td>\n",
       "      <td>United Kingdom</td>\n",
       "    </tr>\n",
       "    <tr>\n",
       "      <th>446762</th>\n",
       "      <td>362103.0</td>\n",
       "      <td>5960185</td>\n",
       "      <td>Fri Apr 06 06:15:00 IST 2018</td>\n",
       "      <td>478086.0</td>\n",
       "      <td>PHOTO FRAME CORNICE</td>\n",
       "      <td>12</td>\n",
       "      <td>4.08</td>\n",
       "      <td>United Kingdom</td>\n",
       "    </tr>\n",
       "    <tr>\n",
       "      <th>464683</th>\n",
       "      <td>362103.0</td>\n",
       "      <td>5960185</td>\n",
       "      <td>Fri Apr 06 06:15:00 IST 2018</td>\n",
       "      <td>1528779.0</td>\n",
       "      <td>IVORY PILLAR CANDLE GOLD FLOCK</td>\n",
       "      <td>3</td>\n",
       "      <td>4.08</td>\n",
       "      <td>United Kingdom</td>\n",
       "    </tr>\n",
       "    <tr>\n",
       "      <th>400290</th>\n",
       "      <td>362103.0</td>\n",
       "      <td>5960185</td>\n",
       "      <td>Fri Apr 06 06:15:00 IST 2018</td>\n",
       "      <td>1732164.0</td>\n",
       "      <td>WOOD BLACK BOARD ANT WHITE FINISH</td>\n",
       "      <td>6</td>\n",
       "      <td>8.91</td>\n",
       "      <td>United Kingdom</td>\n",
       "    </tr>\n",
       "    <tr>\n",
       "      <th>837706</th>\n",
       "      <td>362103.0</td>\n",
       "      <td>5960185</td>\n",
       "      <td>Fri Apr 06 06:15:00 IST 2018</td>\n",
       "      <td>451185.0</td>\n",
       "      <td>RETROSPOT HEART HOT WATER BOTTLE</td>\n",
       "      <td>30</td>\n",
       "      <td>6.84</td>\n",
       "      <td>United Kingdom</td>\n",
       "    </tr>\n",
       "    <tr>\n",
       "      <th>402947</th>\n",
       "      <td>362103.0</td>\n",
       "      <td>5960185</td>\n",
       "      <td>Fri Apr 06 06:15:00 IST 2018</td>\n",
       "      <td>451185.0</td>\n",
       "      <td>RETROSPOT HEART HOT WATER BOTTLE</td>\n",
       "      <td>30</td>\n",
       "      <td>6.84</td>\n",
       "      <td>United Kingdom</td>\n",
       "    </tr>\n",
       "    <tr>\n",
       "      <th>881206</th>\n",
       "      <td>362103.0</td>\n",
       "      <td>5960185</td>\n",
       "      <td>Fri Apr 06 06:15:00 IST 2018</td>\n",
       "      <td>1732374.0</td>\n",
       "      <td>WOODEN FRAME ANTIQUE WHITE</td>\n",
       "      <td>18</td>\n",
       "      <td>4.08</td>\n",
       "      <td>United Kingdom</td>\n",
       "    </tr>\n",
       "    <tr>\n",
       "      <th>861201</th>\n",
       "      <td>362103.0</td>\n",
       "      <td>5960185</td>\n",
       "      <td>Fri Apr 06 06:15:00 IST 2018</td>\n",
       "      <td>1732206.0</td>\n",
       "      <td>WOOD S/3 CABINET ANT WHITE FINISH</td>\n",
       "      <td>12</td>\n",
       "      <td>10.98</td>\n",
       "      <td>United Kingdom</td>\n",
       "    </tr>\n",
       "    <tr>\n",
       "      <th>778432</th>\n",
       "      <td>362103.0</td>\n",
       "      <td>5960185</td>\n",
       "      <td>Fri Apr 06 06:15:00 IST 2018</td>\n",
       "      <td>447573.0</td>\n",
       "      <td>GLASS HEART T-LIGHT HOLDER</td>\n",
       "      <td>72</td>\n",
       "      <td>1.18</td>\n",
       "      <td>United Kingdom</td>\n",
       "    </tr>\n",
       "    <tr>\n",
       "      <th>70171</th>\n",
       "      <td>362103.0</td>\n",
       "      <td>5960185</td>\n",
       "      <td>Fri Apr 06 06:15:00 IST 2018</td>\n",
       "      <td>478086.0</td>\n",
       "      <td>PHOTO FRAME CORNICE</td>\n",
       "      <td>12</td>\n",
       "      <td>4.08</td>\n",
       "      <td>United Kingdom</td>\n",
       "    </tr>\n",
       "  </tbody>\n",
       "</table>\n",
       "</div>"
      ],
      "text/plain": [
       "        CustomerID  InvoiceNo                   InvoiceDate  StockCode  \\\n",
       "432402    362103.0    5960185  Fri Apr 06 06:15:00 IST 2018  1528779.0   \n",
       "446762    362103.0    5960185  Fri Apr 06 06:15:00 IST 2018   478086.0   \n",
       "464683    362103.0    5960185  Fri Apr 06 06:15:00 IST 2018  1528779.0   \n",
       "400290    362103.0    5960185  Fri Apr 06 06:15:00 IST 2018  1732164.0   \n",
       "837706    362103.0    5960185  Fri Apr 06 06:15:00 IST 2018   451185.0   \n",
       "402947    362103.0    5960185  Fri Apr 06 06:15:00 IST 2018   451185.0   \n",
       "881206    362103.0    5960185  Fri Apr 06 06:15:00 IST 2018  1732374.0   \n",
       "861201    362103.0    5960185  Fri Apr 06 06:15:00 IST 2018  1732206.0   \n",
       "778432    362103.0    5960185  Fri Apr 06 06:15:00 IST 2018   447573.0   \n",
       "70171     362103.0    5960185  Fri Apr 06 06:15:00 IST 2018   478086.0   \n",
       "\n",
       "                              Description  Quantity  UnitPrice         Country  \n",
       "432402    PINK PILLAR CANDLE SILVER FLOCK         3       4.08  United Kingdom  \n",
       "446762                PHOTO FRAME CORNICE        12       4.08  United Kingdom  \n",
       "464683     IVORY PILLAR CANDLE GOLD FLOCK         3       4.08  United Kingdom  \n",
       "400290  WOOD BLACK BOARD ANT WHITE FINISH         6       8.91  United Kingdom  \n",
       "837706   RETROSPOT HEART HOT WATER BOTTLE        30       6.84  United Kingdom  \n",
       "402947   RETROSPOT HEART HOT WATER BOTTLE        30       6.84  United Kingdom  \n",
       "881206        WOODEN FRAME ANTIQUE WHITE         18       4.08  United Kingdom  \n",
       "861201  WOOD S/3 CABINET ANT WHITE FINISH        12      10.98  United Kingdom  \n",
       "778432        GLASS HEART T-LIGHT HOLDER         72       1.18  United Kingdom  \n",
       "70171                 PHOTO FRAME CORNICE        12       4.08  United Kingdom  "
      ]
     },
     "execution_count": 5,
     "metadata": {},
     "output_type": "execute_result"
    }
   ],
   "source": [
    "df.head(10)"
   ]
  },
  {
   "cell_type": "code",
   "execution_count": 6,
   "id": "783f7883",
   "metadata": {
    "execution": {
     "iopub.execute_input": "2024-04-07T19:30:05.630373Z",
     "iopub.status.busy": "2024-04-07T19:30:05.629983Z",
     "iopub.status.idle": "2024-04-07T19:30:05.871437Z",
     "shell.execute_reply": "2024-04-07T19:30:05.870383Z"
    },
    "papermill": {
     "duration": 0.300408,
     "end_time": "2024-04-07T19:30:05.874701",
     "exception": false,
     "start_time": "2024-04-07T19:30:05.574293",
     "status": "completed"
    },
    "tags": []
   },
   "outputs": [
    {
     "name": "stdout",
     "output_type": "stream",
     "text": [
      "<class 'pandas.core.frame.DataFrame'>\n",
      "Index: 1083818 entries, 432402 to 717499\n",
      "Data columns (total 8 columns):\n",
      " #   Column       Non-Null Count    Dtype  \n",
      "---  ------       --------------    -----  \n",
      " 0   CustomerID   813658 non-null   float64\n",
      " 1   InvoiceNo    1083818 non-null  int64  \n",
      " 2   InvoiceDate  1083818 non-null  object \n",
      " 3   StockCode    1078226 non-null  float64\n",
      " 4   Description  1080816 non-null  object \n",
      " 5   Quantity     1083818 non-null  int64  \n",
      " 6   UnitPrice    1083818 non-null  float64\n",
      " 7   Country      1083818 non-null  object \n",
      "dtypes: float64(3), int64(2), object(3)\n",
      "memory usage: 74.4+ MB\n"
     ]
    },
    {
     "data": {
      "text/plain": [
       "(1083818, 8)"
      ]
     },
     "execution_count": 6,
     "metadata": {},
     "output_type": "execute_result"
    }
   ],
   "source": [
    "df.info()\n",
    "df.shape"
   ]
  },
  {
   "cell_type": "markdown",
   "id": "3b43af1a",
   "metadata": {
    "papermill": {
     "duration": 0.044125,
     "end_time": "2024-04-07T19:30:06.057401",
     "exception": false,
     "start_time": "2024-04-07T19:30:06.013276",
     "status": "completed"
    },
    "tags": []
   },
   "source": [
    "<a id=\"statistics\"></a>\n",
    "# <b><span style='color:#fcc36d'>Step 2.2 |</span><span style='color:#ff6200'> Summary Statistics</span></b>\n"
   ]
  },
  {
   "cell_type": "code",
   "execution_count": 7,
   "id": "b992efe6",
   "metadata": {
    "execution": {
     "iopub.execute_input": "2024-04-07T19:30:06.217382Z",
     "iopub.status.busy": "2024-04-07T19:30:06.216931Z",
     "iopub.status.idle": "2024-04-07T19:30:06.444055Z",
     "shell.execute_reply": "2024-04-07T19:30:06.443255Z"
    },
    "papermill": {
     "duration": 0.270307,
     "end_time": "2024-04-07T19:30:06.446681",
     "exception": false,
     "start_time": "2024-04-07T19:30:06.176374",
     "status": "completed"
    },
    "tags": []
   },
   "outputs": [
    {
     "data": {
      "text/html": [
       "<div>\n",
       "<style scoped>\n",
       "    .dataframe tbody tr th:only-of-type {\n",
       "        vertical-align: middle;\n",
       "    }\n",
       "\n",
       "    .dataframe tbody tr th {\n",
       "        vertical-align: top;\n",
       "    }\n",
       "\n",
       "    .dataframe thead th {\n",
       "        text-align: right;\n",
       "    }\n",
       "</style>\n",
       "<table border=\"1\" class=\"dataframe\">\n",
       "  <thead>\n",
       "    <tr style=\"text-align: right;\">\n",
       "      <th></th>\n",
       "      <th>count</th>\n",
       "      <th>mean</th>\n",
       "      <th>std</th>\n",
       "      <th>min</th>\n",
       "      <th>25%</th>\n",
       "      <th>50%</th>\n",
       "      <th>75%</th>\n",
       "      <th>max</th>\n",
       "    </tr>\n",
       "  </thead>\n",
       "  <tbody>\n",
       "    <tr>\n",
       "      <th>CustomerID</th>\n",
       "      <td>813658.0</td>\n",
       "      <td>3.210415e+05</td>\n",
       "      <td>35985.584256</td>\n",
       "      <td>259266.00</td>\n",
       "      <td>293013.00</td>\n",
       "      <td>318192.00</td>\n",
       "      <td>352611.0</td>\n",
       "      <td>384027.00</td>\n",
       "    </tr>\n",
       "    <tr>\n",
       "      <th>InvoiceNo</th>\n",
       "      <td>1083818.0</td>\n",
       "      <td>6.159417e+06</td>\n",
       "      <td>147634.093880</td>\n",
       "      <td>5900015.00</td>\n",
       "      <td>6026856.00</td>\n",
       "      <td>6166611.00</td>\n",
       "      <td>6289569.0</td>\n",
       "      <td>6397457.00</td>\n",
       "    </tr>\n",
       "    <tr>\n",
       "      <th>StockCode</th>\n",
       "      <td>1078226.0</td>\n",
       "      <td>6.616827e+05</td>\n",
       "      <td>451307.849053</td>\n",
       "      <td>42.00</td>\n",
       "      <td>461496.00</td>\n",
       "      <td>475419.00</td>\n",
       "      <td>488964.0</td>\n",
       "      <td>1894494.00</td>\n",
       "    </tr>\n",
       "    <tr>\n",
       "      <th>Quantity</th>\n",
       "      <td>1083818.0</td>\n",
       "      <td>2.865675e+01</td>\n",
       "      <td>654.243172</td>\n",
       "      <td>-242985.00</td>\n",
       "      <td>3.00</td>\n",
       "      <td>9.00</td>\n",
       "      <td>30.0</td>\n",
       "      <td>242985.00</td>\n",
       "    </tr>\n",
       "    <tr>\n",
       "      <th>UnitPrice</th>\n",
       "      <td>1083818.0</td>\n",
       "      <td>9.498798e+00</td>\n",
       "      <td>2308.138578</td>\n",
       "      <td>-15265.64</td>\n",
       "      <td>1.73</td>\n",
       "      <td>2.88</td>\n",
       "      <td>5.7</td>\n",
       "      <td>1696285.44</td>\n",
       "    </tr>\n",
       "  </tbody>\n",
       "</table>\n",
       "</div>"
      ],
      "text/plain": [
       "                count          mean            std         min         25%  \\\n",
       "CustomerID   813658.0  3.210415e+05   35985.584256   259266.00   293013.00   \n",
       "InvoiceNo   1083818.0  6.159417e+06  147634.093880  5900015.00  6026856.00   \n",
       "StockCode   1078226.0  6.616827e+05  451307.849053       42.00   461496.00   \n",
       "Quantity    1083818.0  2.865675e+01     654.243172  -242985.00        3.00   \n",
       "UnitPrice   1083818.0  9.498798e+00    2308.138578   -15265.64        1.73   \n",
       "\n",
       "                   50%        75%         max  \n",
       "CustomerID   318192.00   352611.0   384027.00  \n",
       "InvoiceNo   6166611.00  6289569.0  6397457.00  \n",
       "StockCode    475419.00   488964.0  1894494.00  \n",
       "Quantity          9.00       30.0   242985.00  \n",
       "UnitPrice         2.88        5.7  1696285.44  "
      ]
     },
     "execution_count": 7,
     "metadata": {},
     "output_type": "execute_result"
    }
   ],
   "source": [
    "df.describe().T"
   ]
  },
  {
   "cell_type": "code",
   "execution_count": 8,
   "id": "1f0d364e",
   "metadata": {
    "execution": {
     "iopub.execute_input": "2024-04-07T19:30:06.535620Z",
     "iopub.status.busy": "2024-04-07T19:30:06.534366Z",
     "iopub.status.idle": "2024-04-07T19:30:07.145397Z",
     "shell.execute_reply": "2024-04-07T19:30:07.144147Z"
    },
    "papermill": {
     "duration": 0.655094,
     "end_time": "2024-04-07T19:30:07.147585",
     "exception": false,
     "start_time": "2024-04-07T19:30:06.492491",
     "status": "completed"
    },
    "scrolled": true,
    "tags": []
   },
   "outputs": [
    {
     "data": {
      "text/html": [
       "<div>\n",
       "<style scoped>\n",
       "    .dataframe tbody tr th:only-of-type {\n",
       "        vertical-align: middle;\n",
       "    }\n",
       "\n",
       "    .dataframe tbody tr th {\n",
       "        vertical-align: top;\n",
       "    }\n",
       "\n",
       "    .dataframe thead th {\n",
       "        text-align: right;\n",
       "    }\n",
       "</style>\n",
       "<table border=\"1\" class=\"dataframe\">\n",
       "  <thead>\n",
       "    <tr style=\"text-align: right;\">\n",
       "      <th></th>\n",
       "      <th>count</th>\n",
       "      <th>unique</th>\n",
       "      <th>top</th>\n",
       "      <th>freq</th>\n",
       "    </tr>\n",
       "  </thead>\n",
       "  <tbody>\n",
       "    <tr>\n",
       "      <th>InvoiceDate</th>\n",
       "      <td>1083818</td>\n",
       "      <td>23260</td>\n",
       "      <td>Sat Jan 12 10:41:00 IST 2019</td>\n",
       "      <td>2228</td>\n",
       "    </tr>\n",
       "    <tr>\n",
       "      <th>Description</th>\n",
       "      <td>1080816</td>\n",
       "      <td>4222</td>\n",
       "      <td>WHITE HANGING HEART T-LIGHT HOLDER</td>\n",
       "      <td>4738</td>\n",
       "    </tr>\n",
       "    <tr>\n",
       "      <th>Country</th>\n",
       "      <td>1083818</td>\n",
       "      <td>38</td>\n",
       "      <td>United Kingdom</td>\n",
       "      <td>990956</td>\n",
       "    </tr>\n",
       "  </tbody>\n",
       "</table>\n",
       "</div>"
      ],
      "text/plain": [
       "               count unique                                 top    freq\n",
       "InvoiceDate  1083818  23260        Sat Jan 12 10:41:00 IST 2019    2228\n",
       "Description  1080816   4222  WHITE HANGING HEART T-LIGHT HOLDER    4738\n",
       "Country      1083818     38                      United Kingdom  990956"
      ]
     },
     "execution_count": 8,
     "metadata": {},
     "output_type": "execute_result"
    }
   ],
   "source": [
    "df.describe(include='object').T"
   ]
  },
  {
   "cell_type": "markdown",
   "id": "3ed2be85",
   "metadata": {
    "papermill": {
     "duration": 0.038873,
     "end_time": "2024-04-07T19:30:07.304243",
     "exception": false,
     "start_time": "2024-04-07T19:30:07.265370",
     "status": "completed"
    },
    "tags": []
   },
   "source": [
    "<a id=\"data_cleaning\"></a>\n",
    "# <p style=\"background-color: #ff6200; font-family:calibri; color:white; font-size:140%; font-family:Verdana; text-align:center; border-radius:15px 50px;\">Step 3 |  Data Cleaning & Transformation</p>\n"
   ]
  },
  {
   "cell_type": "markdown",
   "id": "219047bf",
   "metadata": {
    "papermill": {
     "duration": 0.039316,
     "end_time": "2024-04-07T19:30:07.462730",
     "exception": false,
     "start_time": "2024-04-07T19:30:07.423414",
     "status": "completed"
    },
    "tags": []
   },
   "source": [
    "<a id=\"missing_values\"></a>\n",
    "# <b><span style='color:#fcc36d'>Step 3.1 |</span><span style='color:#ff6200'> Handling Missing Values</span></b>\n"
   ]
  },
  {
   "cell_type": "code",
   "execution_count": 9,
   "id": "7e48a20c",
   "metadata": {
    "execution": {
     "iopub.execute_input": "2024-04-07T19:30:07.624162Z",
     "iopub.status.busy": "2024-04-07T19:30:07.623739Z",
     "iopub.status.idle": "2024-04-07T19:30:08.286711Z",
     "shell.execute_reply": "2024-04-07T19:30:08.285897Z"
    },
    "papermill": {
     "duration": 0.705978,
     "end_time": "2024-04-07T19:30:08.288613",
     "exception": false,
     "start_time": "2024-04-07T19:30:07.582635",
     "status": "completed"
    },
    "tags": []
   },
   "outputs": [
    {
     "data": {
      "image/png": "[encoded data removed]",
      "text/plain": [
       "<Figure size 1500x400 with 1 Axes>"
      ]
     },
     "metadata": {},
     "output_type": "display_data"
    }
   ],
   "source": [
    "\n",
    "missing_data = df.isnull().sum()\n",
    "missing_percentage = (missing_data[missing_data > 0] / df.shape[0]) * 100\n",
    "\n",
    "missing_percentage.sort_values(ascending=True, inplace=True)\n",
    "\n",
    "fig, ax = plt.subplots(figsize=(15, 4))\n",
    "ax.barh(missing_percentage.index, missing_percentage, color='#ff6200')\n",
    "\n",
    "\n",
    "for i, (value, name) in enumerate(zip(missing_percentage, missing_percentage.index)):\n",
    "    ax.text(value, i, f\"{value:.2f}%\", ha='left', va='center', fontweight='bold', fontsize=18, color='black')\n",
    "\n",
    "ax.set_xlim([0, 40])\n",
    "\n",
    "plt.title(\"Percentage of Missing Values\", fontweight='bold', fontsize=22)\n",
    "plt.xlabel('Percentages (%)', fontsize=16)\n",
    "plt.show()"
   ]
  },
  {
   "cell_type": "code",
   "execution_count": 10,
   "id": "28ead40c",
   "metadata": {
    "execution": {
     "iopub.execute_input": "2024-04-07T19:30:08.450704Z",
     "iopub.status.busy": "2024-04-07T19:30:08.449927Z",
     "iopub.status.idle": "2024-04-07T19:30:08.555170Z",
     "shell.execute_reply": "2024-04-07T19:30:08.554233Z"
    },
    "papermill": {
     "duration": 0.149276,
     "end_time": "2024-04-07T19:30:08.557602",
     "exception": false,
     "start_time": "2024-04-07T19:30:08.408326",
     "status": "completed"
    },
    "tags": []
   },
   "outputs": [
    {
     "data": {
      "text/html": [
       "<div>\n",
       "<style scoped>\n",
       "    .dataframe tbody tr th:only-of-type {\n",
       "        vertical-align: middle;\n",
       "    }\n",
       "\n",
       "    .dataframe tbody tr th {\n",
       "        vertical-align: top;\n",
       "    }\n",
       "\n",
       "    .dataframe thead th {\n",
       "        text-align: right;\n",
       "    }\n",
       "</style>\n",
       "<table border=\"1\" class=\"dataframe\">\n",
       "  <thead>\n",
       "    <tr style=\"text-align: right;\">\n",
       "      <th></th>\n",
       "      <th>CustomerID</th>\n",
       "      <th>InvoiceNo</th>\n",
       "      <th>InvoiceDate</th>\n",
       "      <th>StockCode</th>\n",
       "      <th>Description</th>\n",
       "      <th>Quantity</th>\n",
       "      <th>UnitPrice</th>\n",
       "      <th>Country</th>\n",
       "    </tr>\n",
       "  </thead>\n",
       "  <tbody>\n",
       "    <tr>\n",
       "      <th>319232</th>\n",
       "      <td>NaN</td>\n",
       "      <td>6162475</td>\n",
       "      <td>Wed Sep 26 12:27:00 IST 2018</td>\n",
       "      <td>340977.0</td>\n",
       "      <td>SLEEPING CAT ERASERS</td>\n",
       "      <td>33</td>\n",
       "      <td>0.58</td>\n",
       "      <td>United Kingdom</td>\n",
       "    </tr>\n",
       "    <tr>\n",
       "      <th>460008</th>\n",
       "      <td>NaN</td>\n",
       "      <td>6162475</td>\n",
       "      <td>Wed Sep 26 12:27:00 IST 2018</td>\n",
       "      <td>470988.0</td>\n",
       "      <td>ENAMEL FIRE BUCKET CREAM</td>\n",
       "      <td>3</td>\n",
       "      <td>19.50</td>\n",
       "      <td>United Kingdom</td>\n",
       "    </tr>\n",
       "    <tr>\n",
       "      <th>817280</th>\n",
       "      <td>NaN</td>\n",
       "      <td>6162475</td>\n",
       "      <td>Wed Sep 26 12:27:00 IST 2018</td>\n",
       "      <td>460509.0</td>\n",
       "      <td>JUMBO BAG PINK VINTAGE PAISLEY</td>\n",
       "      <td>6</td>\n",
       "      <td>5.70</td>\n",
       "      <td>United Kingdom</td>\n",
       "    </tr>\n",
       "    <tr>\n",
       "      <th>117269</th>\n",
       "      <td>NaN</td>\n",
       "      <td>6162475</td>\n",
       "      <td>Wed Sep 26 12:27:00 IST 2018</td>\n",
       "      <td>475902.0</td>\n",
       "      <td>LUNCH BAG DOLLY GIRL DESIGN</td>\n",
       "      <td>3</td>\n",
       "      <td>5.70</td>\n",
       "      <td>United Kingdom</td>\n",
       "    </tr>\n",
       "    <tr>\n",
       "      <th>238860</th>\n",
       "      <td>NaN</td>\n",
       "      <td>6162475</td>\n",
       "      <td>Wed Sep 26 12:27:00 IST 2018</td>\n",
       "      <td>468006.0</td>\n",
       "      <td>DECORATION WOBBLY RABBIT METAL</td>\n",
       "      <td>3</td>\n",
       "      <td>1.73</td>\n",
       "      <td>United Kingdom</td>\n",
       "    </tr>\n",
       "  </tbody>\n",
       "</table>\n",
       "</div>"
      ],
      "text/plain": [
       "        CustomerID  InvoiceNo                   InvoiceDate  StockCode  \\\n",
       "319232         NaN    6162475  Wed Sep 26 12:27:00 IST 2018   340977.0   \n",
       "460008         NaN    6162475  Wed Sep 26 12:27:00 IST 2018   470988.0   \n",
       "817280         NaN    6162475  Wed Sep 26 12:27:00 IST 2018   460509.0   \n",
       "117269         NaN    6162475  Wed Sep 26 12:27:00 IST 2018   475902.0   \n",
       "238860         NaN    6162475  Wed Sep 26 12:27:00 IST 2018   468006.0   \n",
       "\n",
       "                            Description  Quantity  UnitPrice         Country  \n",
       "319232             SLEEPING CAT ERASERS        33       0.58  United Kingdom  \n",
       "460008         ENAMEL FIRE BUCKET CREAM         3      19.50  United Kingdom  \n",
       "817280   JUMBO BAG PINK VINTAGE PAISLEY         6       5.70  United Kingdom  \n",
       "117269      LUNCH BAG DOLLY GIRL DESIGN         3       5.70  United Kingdom  \n",
       "238860  DECORATION WOBBLY RABBIT METAL          3       1.73  United Kingdom  "
      ]
     },
     "execution_count": 10,
     "metadata": {},
     "output_type": "execute_result"
    }
   ],
   "source": [
    "df[df['CustomerID'].isnull() | df['Description'].isnull()].tail() "
   ]
  },
  {
   "cell_type": "code",
   "execution_count": 11,
   "id": "e1740b6c",
   "metadata": {},
   "outputs": [
    {
     "data": {
      "text/plain": [
       "3002"
      ]
     },
     "execution_count": 11,
     "metadata": {},
     "output_type": "execute_result"
    }
   ],
   "source": [
    "df['Description'].isnull().sum()\n"
   ]
  },
  {
   "cell_type": "code",
   "execution_count": 12,
   "id": "d3c87944",
   "metadata": {},
   "outputs": [
    {
     "data": {
      "text/plain": [
       "(1083818, 8)"
      ]
     },
     "execution_count": 12,
     "metadata": {},
     "output_type": "execute_result"
    }
   ],
   "source": [
    "df.shape"
   ]
  },
  {
   "cell_type": "code",
   "execution_count": 13,
   "id": "334d1e62",
   "metadata": {
    "execution": {
     "iopub.execute_input": "2024-04-07T19:30:08.639711Z",
     "iopub.status.busy": "2024-04-07T19:30:08.639085Z",
     "iopub.status.idle": "2024-04-07T19:30:08.717669Z",
     "shell.execute_reply": "2024-04-07T19:30:08.716247Z"
    },
    "papermill": {
     "duration": 0.122836,
     "end_time": "2024-04-07T19:30:08.720446",
     "exception": false,
     "start_time": "2024-04-07T19:30:08.597610",
     "status": "completed"
    },
    "tags": []
   },
   "outputs": [
    {
     "data": {
      "text/plain": [
       "(813658, 8)"
      ]
     },
     "execution_count": 13,
     "metadata": {},
     "output_type": "execute_result"
    }
   ],
   "source": [
    "df = df.dropna(subset=['CustomerID'])\n",
    "df.shape"
   ]
  },
  {
   "cell_type": "code",
   "execution_count": 14,
   "id": "05e2ff8c",
   "metadata": {
    "execution": {
     "iopub.execute_input": "2024-04-07T19:30:08.804900Z",
     "iopub.status.busy": "2024-04-07T19:30:08.804257Z",
     "iopub.status.idle": "2024-04-07T19:30:09.258128Z",
     "shell.execute_reply": "2024-04-07T19:30:09.257038Z"
    },
    "papermill": {
     "duration": 0.499101,
     "end_time": "2024-04-07T19:30:09.260417",
     "exception": false,
     "start_time": "2024-04-07T19:30:08.761316",
     "status": "completed"
    },
    "tags": []
   },
   "outputs": [
    {
     "data": {
      "image/png": "[encoded data removed]",
      "text/plain": [
       "<Figure size 1500x400 with 1 Axes>"
      ]
     },
     "metadata": {},
     "output_type": "display_data"
    }
   ],
   "source": [
    "\n",
    "missing_data = df.isnull().sum()\n",
    "missing_percentage = (missing_data[missing_data > 0] / df.shape[0]) * 100\n",
    "\n",
    "\n",
    "missing_percentage.sort_values(ascending=True, inplace=True)\n",
    "\n",
    "\n",
    "fig, ax = plt.subplots(figsize=(15, 4))\n",
    "ax.barh(missing_percentage.index, missing_percentage, color='#ff6200')\n",
    "\n",
    "for i, (value, name) in enumerate(zip(missing_percentage, missing_percentage.index)):\n",
    "    ax.text(value+0.5, i, f\"{value:.2f}%\", ha='left', va='center', fontweight='bold', fontsize=18, color='black')\n",
    "\n",
    "\n",
    "ax.set_xlim([0, 40])\n",
    "\n",
    "plt.title(\"Percentage of Missing Values\", fontweight='bold', fontsize=22)\n",
    "plt.xlabel('Percentages (%)', fontsize=16)\n",
    "plt.show()"
   ]
  },
  {
   "cell_type": "markdown",
   "id": "7e7b2d5f",
   "metadata": {
    "papermill": {
     "duration": 0.039996,
     "end_time": "2024-04-07T19:30:09.341429",
     "exception": false,
     "start_time": "2024-04-07T19:30:09.301433",
     "status": "completed"
    },
    "tags": []
   },
   "source": [
    "<a id=\"duplicates\"></a>\n",
    "# <b><span style='color:#fcc36d'>Step 3.2 |</span><span style='color:#ff6200'> Handling Duplicates</span></b>\n"
   ]
  },
  {
   "cell_type": "code",
   "execution_count": 15,
   "id": "5b5a74f0",
   "metadata": {
    "execution": {
     "iopub.execute_input": "2024-04-07T19:30:09.505668Z",
     "iopub.status.busy": "2024-04-07T19:30:09.504945Z",
     "iopub.status.idle": "2024-04-07T19:30:10.502647Z",
     "shell.execute_reply": "2024-04-07T19:30:10.501312Z"
    },
    "papermill": {
     "duration": 1.042272,
     "end_time": "2024-04-07T19:30:10.505160",
     "exception": false,
     "start_time": "2024-04-07T19:30:09.462888",
     "status": "completed"
    },
    "tags": []
   },
   "outputs": [
    {
     "data": {
      "text/html": [
       "<div>\n",
       "<style scoped>\n",
       "    .dataframe tbody tr th:only-of-type {\n",
       "        vertical-align: middle;\n",
       "    }\n",
       "\n",
       "    .dataframe tbody tr th {\n",
       "        vertical-align: top;\n",
       "    }\n",
       "\n",
       "    .dataframe thead th {\n",
       "        text-align: right;\n",
       "    }\n",
       "</style>\n",
       "<table border=\"1\" class=\"dataframe\">\n",
       "  <thead>\n",
       "    <tr style=\"text-align: right;\">\n",
       "      <th></th>\n",
       "      <th>CustomerID</th>\n",
       "      <th>InvoiceNo</th>\n",
       "      <th>InvoiceDate</th>\n",
       "      <th>StockCode</th>\n",
       "      <th>Description</th>\n",
       "      <th>Quantity</th>\n",
       "      <th>UnitPrice</th>\n",
       "      <th>Country</th>\n",
       "    </tr>\n",
       "  </thead>\n",
       "  <tbody>\n",
       "    <tr>\n",
       "      <th>1024276</th>\n",
       "      <td>374850.0</td>\n",
       "      <td>5900015</td>\n",
       "      <td>Mon Feb 12 04:26:00 IST 2018</td>\n",
       "      <td>456330.0</td>\n",
       "      <td>GLASS STAR FROSTED T-LIGHT HOLDER</td>\n",
       "      <td>18</td>\n",
       "      <td>5.87</td>\n",
       "      <td>United Kingdom</td>\n",
       "    </tr>\n",
       "    <tr>\n",
       "      <th>920591</th>\n",
       "      <td>374850.0</td>\n",
       "      <td>5900015</td>\n",
       "      <td>Mon Feb 12 04:26:00 IST 2018</td>\n",
       "      <td>456330.0</td>\n",
       "      <td>GLASS STAR FROSTED T-LIGHT HOLDER</td>\n",
       "      <td>18</td>\n",
       "      <td>5.87</td>\n",
       "      <td>United Kingdom</td>\n",
       "    </tr>\n",
       "    <tr>\n",
       "      <th>55169</th>\n",
       "      <td>374850.0</td>\n",
       "      <td>5900015</td>\n",
       "      <td>Mon Feb 12 04:26:00 IST 2018</td>\n",
       "      <td>477792.0</td>\n",
       "      <td>SET 7 BABUSHKA NESTING BOXES</td>\n",
       "      <td>6</td>\n",
       "      <td>10.56</td>\n",
       "      <td>United Kingdom</td>\n",
       "    </tr>\n",
       "    <tr>\n",
       "      <th>508218</th>\n",
       "      <td>374850.0</td>\n",
       "      <td>5900015</td>\n",
       "      <td>Mon Feb 12 04:26:00 IST 2018</td>\n",
       "      <td>477792.0</td>\n",
       "      <td>SET 7 BABUSHKA NESTING BOXES</td>\n",
       "      <td>6</td>\n",
       "      <td>10.56</td>\n",
       "      <td>United Kingdom</td>\n",
       "    </tr>\n",
       "    <tr>\n",
       "      <th>323263</th>\n",
       "      <td>374850.0</td>\n",
       "      <td>5900015</td>\n",
       "      <td>Mon Feb 12 04:26:00 IST 2018</td>\n",
       "      <td>1492113.0</td>\n",
       "      <td>WHITE METAL LANTERN</td>\n",
       "      <td>18</td>\n",
       "      <td>4.68</td>\n",
       "      <td>United Kingdom</td>\n",
       "    </tr>\n",
       "    <tr>\n",
       "      <th>635173</th>\n",
       "      <td>374850.0</td>\n",
       "      <td>5900015</td>\n",
       "      <td>Mon Feb 12 04:26:00 IST 2018</td>\n",
       "      <td>1492113.0</td>\n",
       "      <td>WHITE METAL LANTERN</td>\n",
       "      <td>18</td>\n",
       "      <td>4.68</td>\n",
       "      <td>United Kingdom</td>\n",
       "    </tr>\n",
       "    <tr>\n",
       "      <th>528742</th>\n",
       "      <td>374850.0</td>\n",
       "      <td>5900015</td>\n",
       "      <td>Mon Feb 12 04:26:00 IST 2018</td>\n",
       "      <td>1764609.0</td>\n",
       "      <td>KNITTED UNION FLAG HOT WATER BOTTLE</td>\n",
       "      <td>18</td>\n",
       "      <td>4.68</td>\n",
       "      <td>United Kingdom</td>\n",
       "    </tr>\n",
       "    <tr>\n",
       "      <th>538323</th>\n",
       "      <td>374850.0</td>\n",
       "      <td>5900015</td>\n",
       "      <td>Mon Feb 12 04:26:00 IST 2018</td>\n",
       "      <td>1764609.0</td>\n",
       "      <td>KNITTED UNION FLAG HOT WATER BOTTLE</td>\n",
       "      <td>18</td>\n",
       "      <td>4.68</td>\n",
       "      <td>United Kingdom</td>\n",
       "    </tr>\n",
       "    <tr>\n",
       "      <th>918916</th>\n",
       "      <td>374850.0</td>\n",
       "      <td>5900015</td>\n",
       "      <td>Mon Feb 12 04:26:00 IST 2018</td>\n",
       "      <td>1764609.0</td>\n",
       "      <td>RED WOOLLY HOTTIE WHITE HEART.</td>\n",
       "      <td>18</td>\n",
       "      <td>4.68</td>\n",
       "      <td>United Kingdom</td>\n",
       "    </tr>\n",
       "    <tr>\n",
       "      <th>412255</th>\n",
       "      <td>374850.0</td>\n",
       "      <td>5900015</td>\n",
       "      <td>Mon Feb 12 04:26:00 IST 2018</td>\n",
       "      <td>1764609.0</td>\n",
       "      <td>RED WOOLLY HOTTIE WHITE HEART.</td>\n",
       "      <td>18</td>\n",
       "      <td>4.68</td>\n",
       "      <td>United Kingdom</td>\n",
       "    </tr>\n",
       "  </tbody>\n",
       "</table>\n",
       "</div>"
      ],
      "text/plain": [
       "         CustomerID  InvoiceNo                   InvoiceDate  StockCode  \\\n",
       "1024276    374850.0    5900015  Mon Feb 12 04:26:00 IST 2018   456330.0   \n",
       "920591     374850.0    5900015  Mon Feb 12 04:26:00 IST 2018   456330.0   \n",
       "55169      374850.0    5900015  Mon Feb 12 04:26:00 IST 2018   477792.0   \n",
       "508218     374850.0    5900015  Mon Feb 12 04:26:00 IST 2018   477792.0   \n",
       "323263     374850.0    5900015  Mon Feb 12 04:26:00 IST 2018  1492113.0   \n",
       "635173     374850.0    5900015  Mon Feb 12 04:26:00 IST 2018  1492113.0   \n",
       "528742     374850.0    5900015  Mon Feb 12 04:26:00 IST 2018  1764609.0   \n",
       "538323     374850.0    5900015  Mon Feb 12 04:26:00 IST 2018  1764609.0   \n",
       "918916     374850.0    5900015  Mon Feb 12 04:26:00 IST 2018  1764609.0   \n",
       "412255     374850.0    5900015  Mon Feb 12 04:26:00 IST 2018  1764609.0   \n",
       "\n",
       "                                 Description  Quantity  UnitPrice  \\\n",
       "1024276    GLASS STAR FROSTED T-LIGHT HOLDER        18       5.87   \n",
       "920591     GLASS STAR FROSTED T-LIGHT HOLDER        18       5.87   \n",
       "55169           SET 7 BABUSHKA NESTING BOXES         6      10.56   \n",
       "508218          SET 7 BABUSHKA NESTING BOXES         6      10.56   \n",
       "323263                   WHITE METAL LANTERN        18       4.68   \n",
       "635173                   WHITE METAL LANTERN        18       4.68   \n",
       "528742   KNITTED UNION FLAG HOT WATER BOTTLE        18       4.68   \n",
       "538323   KNITTED UNION FLAG HOT WATER BOTTLE        18       4.68   \n",
       "918916        RED WOOLLY HOTTIE WHITE HEART.        18       4.68   \n",
       "412255        RED WOOLLY HOTTIE WHITE HEART.        18       4.68   \n",
       "\n",
       "                Country  \n",
       "1024276  United Kingdom  \n",
       "920591   United Kingdom  \n",
       "55169    United Kingdom  \n",
       "508218   United Kingdom  \n",
       "323263   United Kingdom  \n",
       "635173   United Kingdom  \n",
       "528742   United Kingdom  \n",
       "538323   United Kingdom  \n",
       "918916   United Kingdom  \n",
       "412255   United Kingdom  "
      ]
     },
     "execution_count": 15,
     "metadata": {},
     "output_type": "execute_result"
    }
   ],
   "source": [
    "duplicate_rows = df[df.duplicated(keep=False)]\n",
    "\n",
    "duplicate_rows_sorted = duplicate_rows.sort_values(by=['InvoiceNo', 'StockCode', 'Description', 'CustomerID', 'Quantity'])\n",
    "\n",
    "duplicate_rows_sorted.head(10)"
   ]
  },
  {
   "cell_type": "code",
   "execution_count": 16,
   "id": "07735712",
   "metadata": {
    "execution": {
     "iopub.execute_input": "2024-04-07T19:30:10.672064Z",
     "iopub.status.busy": "2024-04-07T19:30:10.671469Z",
     "iopub.status.idle": "2024-04-07T19:30:11.757038Z",
     "shell.execute_reply": "2024-04-07T19:30:11.756167Z"
    },
    "papermill": {
     "duration": 1.131272,
     "end_time": "2024-04-07T19:30:11.759444",
     "exception": false,
     "start_time": "2024-04-07T19:30:10.628172",
     "status": "completed"
    },
    "tags": []
   },
   "outputs": [
    {
     "name": "stdout",
     "output_type": "stream",
     "text": [
      "The dataset contains 412089 duplicate rows that need to be removed.\n"
     ]
    }
   ],
   "source": [
    "print(f\"The dataset contains {df.duplicated().sum()} duplicate rows that need to be removed.\")\n",
    "\n",
    "df.drop_duplicates(inplace=True)"
   ]
  },
  {
   "cell_type": "code",
   "execution_count": 17,
   "id": "8c43891c",
   "metadata": {
    "execution": {
     "iopub.execute_input": "2024-04-07T19:30:11.845613Z",
     "iopub.status.busy": "2024-04-07T19:30:11.845001Z",
     "iopub.status.idle": "2024-04-07T19:30:11.850536Z",
     "shell.execute_reply": "2024-04-07T19:30:11.849781Z"
    },
    "papermill": {
     "duration": 0.050032,
     "end_time": "2024-04-07T19:30:11.852464",
     "exception": false,
     "start_time": "2024-04-07T19:30:11.802432",
     "status": "completed"
    },
    "tags": []
   },
   "outputs": [
    {
     "data": {
      "text/plain": [
       "(401569, 8)"
      ]
     },
     "execution_count": 17,
     "metadata": {},
     "output_type": "execute_result"
    }
   ],
   "source": [
    "df.shape"
   ]
  },
  {
   "cell_type": "markdown",
   "id": "3604eef1",
   "metadata": {},
   "source": [
    "<a id=\"InvoiceNo_cleaning\"></a>\n",
    "# <b><span style='color:#fcc36d'>Step 3.3 |</span><span style='color:#ff6200'> Specify the loyal and one purchase customers and most expensive proudct</span></b>\n"
   ]
  },
  {
   "cell_type": "code",
   "execution_count": 18,
   "id": "602b7ff8",
   "metadata": {},
   "outputs": [
    {
     "data": {
      "image/png": "[encoded data removed]",
      "text/plain": [
       "<Figure size 1600x800 with 1 Axes>"
      ]
     },
     "metadata": {},
     "output_type": "display_data"
    }
   ],
   "source": [
    "customer_with_one_purche =  df['CustomerID'].nunique()\n",
    "customer_with_multi_purches= df['CustomerID'].count() - customer_with_one_purche\n",
    "x=np.array([customer_with_one_purche,customer_with_multi_purches])\n",
    "plt.figure(figsize=(16,8))\n",
    "plt.pie(x,labels=[\"customer made one purches\",\"customer made multi purches\"],autopct='%1.0f%%')\n",
    "plt.show()"
   ]
  },
  {
   "cell_type": "code",
   "execution_count": 19,
   "id": "1adda8eb",
   "metadata": {},
   "outputs": [
    {
     "data": {
      "text/html": [
       "<div>\n",
       "<style scoped>\n",
       "    .dataframe tbody tr th:only-of-type {\n",
       "        vertical-align: middle;\n",
       "    }\n",
       "\n",
       "    .dataframe tbody tr th {\n",
       "        vertical-align: top;\n",
       "    }\n",
       "\n",
       "    .dataframe thead th {\n",
       "        text-align: right;\n",
       "    }\n",
       "</style>\n",
       "<table border=\"1\" class=\"dataframe\">\n",
       "  <thead>\n",
       "    <tr style=\"text-align: right;\">\n",
       "      <th></th>\n",
       "      <th>StockCode</th>\n",
       "      <th>UnitPrice</th>\n",
       "    </tr>\n",
       "  </thead>\n",
       "  <tbody>\n",
       "    <tr>\n",
       "      <th>1261</th>\n",
       "      <td>470883.0</td>\n",
       "      <td>32495.64</td>\n",
       "    </tr>\n",
       "    <tr>\n",
       "      <th>2516</th>\n",
       "      <td>998886.0</td>\n",
       "      <td>11625.60</td>\n",
       "    </tr>\n",
       "    <tr>\n",
       "      <th>1480</th>\n",
       "      <td>475755.0</td>\n",
       "      <td>9564.09</td>\n",
       "    </tr>\n",
       "    <tr>\n",
       "      <th>0</th>\n",
       "      <td>42.0</td>\n",
       "      <td>9270.84</td>\n",
       "    </tr>\n",
       "    <tr>\n",
       "      <th>1665</th>\n",
       "      <td>479787.0</td>\n",
       "      <td>8481.34</td>\n",
       "    </tr>\n",
       "    <tr>\n",
       "      <th>1543</th>\n",
       "      <td>477120.0</td>\n",
       "      <td>8373.82</td>\n",
       "    </tr>\n",
       "    <tr>\n",
       "      <th>2973</th>\n",
       "      <td>1787079.0</td>\n",
       "      <td>8345.16</td>\n",
       "    </tr>\n",
       "    <tr>\n",
       "      <th>2957</th>\n",
       "      <td>1786386.0</td>\n",
       "      <td>8273.83</td>\n",
       "    </tr>\n",
       "    <tr>\n",
       "      <th>2983</th>\n",
       "      <td>1787583.0</td>\n",
       "      <td>8254.14</td>\n",
       "    </tr>\n",
       "    <tr>\n",
       "      <th>1450</th>\n",
       "      <td>475104.0</td>\n",
       "      <td>7449.42</td>\n",
       "    </tr>\n",
       "  </tbody>\n",
       "</table>\n",
       "</div>"
      ],
      "text/plain": [
       "      StockCode  UnitPrice\n",
       "1261   470883.0   32495.64\n",
       "2516   998886.0   11625.60\n",
       "1480   475755.0    9564.09\n",
       "0          42.0    9270.84\n",
       "1665   479787.0    8481.34\n",
       "1543   477120.0    8373.82\n",
       "2973  1787079.0    8345.16\n",
       "2957  1786386.0    8273.83\n",
       "2983  1787583.0    8254.14\n",
       "1450   475104.0    7449.42"
      ]
     },
     "execution_count": 19,
     "metadata": {},
     "output_type": "execute_result"
    }
   ],
   "source": [
    "most_expensive  = df.groupby('StockCode')['UnitPrice'].sum().reset_index()\n",
    "most_expensive= most_expensive.sort_values(by='UnitPrice', ascending=False)\n",
    "top10=most_expensive[1:11]\n",
    "top10"
   ]
  },
  {
   "cell_type": "code",
   "execution_count": 20,
   "id": "92e16df5",
   "metadata": {},
   "outputs": [
    {
     "data": {
      "image/png": "[encoded data removed]",
      "text/plain": [
       "<Figure size 1000x600 with 1 Axes>"
      ]
     },
     "metadata": {},
     "output_type": "display_data"
    }
   ],
   "source": [
    "top10['StockCode'] = top10['StockCode'].astype(str)\n",
    "\n",
    "plt.figure(figsize=(10,6))\n",
    "plt.bar(top10['StockCode'], top10['UnitPrice'], color='skyblue')\n",
    "plt.title('Top 10 Most expensive Stocks', fontsize=14)\n",
    "plt.xlabel('StockCode', fontsize=12)\n",
    "plt.ylabel('Unite Price', fontsize=12)\n",
    "plt.tight_layout()\n",
    "plt.show()"
   ]
  },
  {
   "cell_type": "code",
   "execution_count": 21,
   "id": "efd99ff3",
   "metadata": {},
   "outputs": [
    {
     "data": {
      "text/html": [
       "<div>\n",
       "<style scoped>\n",
       "    .dataframe tbody tr th:only-of-type {\n",
       "        vertical-align: middle;\n",
       "    }\n",
       "\n",
       "    .dataframe tbody tr th {\n",
       "        vertical-align: top;\n",
       "    }\n",
       "\n",
       "    .dataframe thead th {\n",
       "        text-align: right;\n",
       "    }\n",
       "</style>\n",
       "<table border=\"1\" class=\"dataframe\">\n",
       "  <thead>\n",
       "    <tr style=\"text-align: right;\">\n",
       "      <th></th>\n",
       "      <th>StockCode</th>\n",
       "      <th>Quantity</th>\n",
       "    </tr>\n",
       "  </thead>\n",
       "  <tbody>\n",
       "    <tr>\n",
       "      <th>1114</th>\n",
       "      <td>486486.0</td>\n",
       "      <td>222930</td>\n",
       "    </tr>\n",
       "    <tr>\n",
       "      <th>1497</th>\n",
       "      <td>1781346.0</td>\n",
       "      <td>37440</td>\n",
       "    </tr>\n",
       "    <tr>\n",
       "      <th>512</th>\n",
       "      <td>466137.0</td>\n",
       "      <td>14367</td>\n",
       "    </tr>\n",
       "    <tr>\n",
       "      <th>14</th>\n",
       "      <td>336294.0</td>\n",
       "      <td>12000</td>\n",
       "    </tr>\n",
       "    <tr>\n",
       "      <th>34</th>\n",
       "      <td>378147.0</td>\n",
       "      <td>7200</td>\n",
       "    </tr>\n",
       "    <tr>\n",
       "      <th>5</th>\n",
       "      <td>315756.0</td>\n",
       "      <td>6360</td>\n",
       "    </tr>\n",
       "    <tr>\n",
       "      <th>1397</th>\n",
       "      <td>1302378.0</td>\n",
       "      <td>5400</td>\n",
       "    </tr>\n",
       "    <tr>\n",
       "      <th>32</th>\n",
       "      <td>359016.0</td>\n",
       "      <td>5184</td>\n",
       "    </tr>\n",
       "    <tr>\n",
       "      <th>380</th>\n",
       "      <td>460215.0</td>\n",
       "      <td>5082</td>\n",
       "    </tr>\n",
       "    <tr>\n",
       "      <th>1504</th>\n",
       "      <td>1782459.0</td>\n",
       "      <td>4695</td>\n",
       "    </tr>\n",
       "  </tbody>\n",
       "</table>\n",
       "</div>"
      ],
      "text/plain": [
       "      StockCode  Quantity\n",
       "1114   486486.0    222930\n",
       "1497  1781346.0     37440\n",
       "512    466137.0     14367\n",
       "14     336294.0     12000\n",
       "34     378147.0      7200\n",
       "5      315756.0      6360\n",
       "1397  1302378.0      5400\n",
       "32     359016.0      5184\n",
       "380    460215.0      5082\n",
       "1504  1782459.0      4695"
      ]
     },
     "execution_count": 21,
     "metadata": {},
     "output_type": "execute_result"
    }
   ],
   "source": [
    "customer_with_one_purche =  df.drop_duplicates(subset='CustomerID')\n",
    "stock_purchase_count = customer_with_one_purche.groupby('StockCode')['Quantity'].sum().reset_index()\n",
    "most_purchased_stocks = stock_purchase_count.sort_values(by='Quantity', ascending=False)\n",
    "top10=most_purchased_stocks.head(10)\n",
    "top10"
   ]
  },
  {
   "cell_type": "code",
   "execution_count": 22,
   "id": "f4132eba",
   "metadata": {},
   "outputs": [
    {
     "data": {
      "text/html": [
       "<div>\n",
       "<style scoped>\n",
       "    .dataframe tbody tr th:only-of-type {\n",
       "        vertical-align: middle;\n",
       "    }\n",
       "\n",
       "    .dataframe tbody tr th {\n",
       "        vertical-align: top;\n",
       "    }\n",
       "\n",
       "    .dataframe thead th {\n",
       "        text-align: right;\n",
       "    }\n",
       "</style>\n",
       "<table border=\"1\" class=\"dataframe\">\n",
       "  <thead>\n",
       "    <tr style=\"text-align: right;\">\n",
       "      <th></th>\n",
       "      <th>StockCode</th>\n",
       "      <th>Quantity</th>\n",
       "    </tr>\n",
       "  </thead>\n",
       "  <tbody>\n",
       "    <tr>\n",
       "      <th>2972</th>\n",
       "      <td>1787079.0</td>\n",
       "      <td>217308</td>\n",
       "    </tr>\n",
       "    <tr>\n",
       "      <th>2682</th>\n",
       "      <td>1765617.0</td>\n",
       "      <td>156621</td>\n",
       "    </tr>\n",
       "    <tr>\n",
       "      <th>1061</th>\n",
       "      <td>466137.0</td>\n",
       "      <td>131700</td>\n",
       "    </tr>\n",
       "    <tr>\n",
       "      <th>2867</th>\n",
       "      <td>1782459.0</td>\n",
       "      <td>100950</td>\n",
       "    </tr>\n",
       "    <tr>\n",
       "      <th>2982</th>\n",
       "      <td>1787583.0</td>\n",
       "      <td>100911</td>\n",
       "    </tr>\n",
       "    <tr>\n",
       "      <th>394</th>\n",
       "      <td>445452.0</td>\n",
       "      <td>97812</td>\n",
       "    </tr>\n",
       "    <tr>\n",
       "      <th>1892</th>\n",
       "      <td>484764.0</td>\n",
       "      <td>77529</td>\n",
       "    </tr>\n",
       "    <tr>\n",
       "      <th>1325</th>\n",
       "      <td>472332.0</td>\n",
       "      <td>76668</td>\n",
       "    </tr>\n",
       "    <tr>\n",
       "      <th>883</th>\n",
       "      <td>461517.0</td>\n",
       "      <td>72021</td>\n",
       "    </tr>\n",
       "    <tr>\n",
       "      <th>1442</th>\n",
       "      <td>474936.0</td>\n",
       "      <td>71955</td>\n",
       "    </tr>\n",
       "  </tbody>\n",
       "</table>\n",
       "</div>"
      ],
      "text/plain": [
       "      StockCode  Quantity\n",
       "2972  1787079.0    217308\n",
       "2682  1765617.0    156621\n",
       "1061   466137.0    131700\n",
       "2867  1782459.0    100950\n",
       "2982  1787583.0    100911\n",
       "394    445452.0     97812\n",
       "1892   484764.0     77529\n",
       "1325   472332.0     76668\n",
       "883    461517.0     72021\n",
       "1442   474936.0     71955"
      ]
     },
     "execution_count": 22,
     "metadata": {},
     "output_type": "execute_result"
    }
   ],
   "source": [
    "customer_with_multi_purches =  df[df.duplicated('CustomerID')]\n",
    "stock_purchase_count = customer_with_multi_purches.groupby('StockCode')['Quantity'].sum().reset_index()\n",
    "most_purchased_stocks = stock_purchase_count.sort_values(by='Quantity', ascending=False)\n",
    "top10_2=most_purchased_stocks.head(10)\n",
    "top10_2"
   ]
  },
  {
   "cell_type": "code",
   "execution_count": 23,
   "id": "05b4ebf7",
   "metadata": {},
   "outputs": [
    {
     "data": {
      "image/png": "[encoded data removed]",
      "text/plain": [
       "<Figure size 2000x600 with 2 Axes>"
      ]
     },
     "metadata": {},
     "output_type": "display_data"
    }
   ],
   "source": [
    "top10['StockCode'] = top10['StockCode'].astype(str)\n",
    "top10_2['StockCode'] = top10_2['StockCode'].astype(str)\n",
    "\n",
    "fig, axes = plt.subplots(1, 2, figsize=(20, 6))\n",
    "axes[0].bar(top10['StockCode'], top10['Quantity'], color='skyblue')\n",
    "axes[0].set_title('Top 10 Most Purchased Stocks for one purches customers', fontsize=14)\n",
    "axes[0].set_xlabel('StockCode', fontsize=12)\n",
    "axes[0].set_ylabel('Total Quantity Purchased', fontsize=12)\n",
    "axes[1].bar(top10_2['StockCode'], top10_2['Quantity'], color='salmon')\n",
    "axes[1].set_title('Top 10 Most Purchased Stocks for loyal customers', fontsize=14)\n",
    "axes[1].set_xlabel('StockCode', fontsize=12)\n",
    "axes[1].set_ylabel('Total Quantity Purchased', fontsize=12)\n",
    "\n",
    "plt.tight_layout()\n",
    "plt.show()"
   ]
  },
  {
   "cell_type": "markdown",
   "id": "ad6da356",
   "metadata": {
    "papermill": {
     "duration": 0.040934,
     "end_time": "2024-04-07T19:30:11.935044",
     "exception": false,
     "start_time": "2024-04-07T19:30:11.894110",
     "status": "completed"
    },
    "tags": []
   },
   "source": [
    "<a id=\"InvoiceNo_cleaning\"></a>\n",
    "# <b><span style='color:#fcc36d'>Step 3.4 |</span><span style='color:#ff6200'> Treating Cancelled Transactions</span></b>\n"
   ]
  },
  {
   "cell_type": "code",
   "execution_count": 24,
   "id": "1b18a1a4",
   "metadata": {
    "execution": {
     "iopub.execute_input": "2024-04-07T19:30:12.105479Z",
     "iopub.status.busy": "2024-04-07T19:30:12.104744Z",
     "iopub.status.idle": "2024-04-07T19:30:12.142770Z",
     "shell.execute_reply": "2024-04-07T19:30:12.141580Z"
    },
    "papermill": {
     "duration": 0.083914,
     "end_time": "2024-04-07T19:30:12.145127",
     "exception": false,
     "start_time": "2024-04-07T19:30:12.061213",
     "status": "completed"
    },
    "tags": []
   },
   "outputs": [
    {
     "data": {
      "text/html": [
       "<div>\n",
       "<style scoped>\n",
       "    .dataframe tbody tr th:only-of-type {\n",
       "        vertical-align: middle;\n",
       "    }\n",
       "\n",
       "    .dataframe tbody tr th {\n",
       "        vertical-align: top;\n",
       "    }\n",
       "\n",
       "    .dataframe thead th {\n",
       "        text-align: right;\n",
       "    }\n",
       "</style>\n",
       "<table border=\"1\" class=\"dataframe\">\n",
       "  <thead>\n",
       "    <tr style=\"text-align: right;\">\n",
       "      <th></th>\n",
       "      <th>InvoiceNo</th>\n",
       "      <th>StockCode</th>\n",
       "      <th>Quantity</th>\n",
       "      <th>UnitPrice</th>\n",
       "      <th>Transaction_Status</th>\n",
       "    </tr>\n",
       "  </thead>\n",
       "  <tbody>\n",
       "    <tr>\n",
       "      <th>count</th>\n",
       "      <td>8.871000e+03</td>\n",
       "      <td>8.506000e+03</td>\n",
       "      <td>8871.000000</td>\n",
       "      <td>8871.000000</td>\n",
       "      <td>8871.0</td>\n",
       "    </tr>\n",
       "    <tr>\n",
       "      <th>mean</th>\n",
       "      <td>6.149158e+06</td>\n",
       "      <td>6.531598e+05</td>\n",
       "      <td>-92.328373</td>\n",
       "      <td>26.089900</td>\n",
       "      <td>1.0</td>\n",
       "    </tr>\n",
       "    <tr>\n",
       "      <th>std</th>\n",
       "      <td>1.426151e+05</td>\n",
       "      <td>4.381926e+05</td>\n",
       "      <td>3516.947922</td>\n",
       "      <td>614.397875</td>\n",
       "      <td>0.0</td>\n",
       "    </tr>\n",
       "    <tr>\n",
       "      <th>min</th>\n",
       "      <td>5.900169e+06</td>\n",
       "      <td>4.200000e+01</td>\n",
       "      <td>-242985.000000</td>\n",
       "      <td>0.020000</td>\n",
       "      <td>1.0</td>\n",
       "    </tr>\n",
       "    <tr>\n",
       "      <th>25%</th>\n",
       "      <td>6.022484e+06</td>\n",
       "      <td>4.655332e+05</td>\n",
       "      <td>-18.000000</td>\n",
       "      <td>2.010000</td>\n",
       "      <td>1.0</td>\n",
       "    </tr>\n",
       "    <tr>\n",
       "      <th>50%</th>\n",
       "      <td>6.156370e+06</td>\n",
       "      <td>4.771200e+05</td>\n",
       "      <td>-6.000000</td>\n",
       "      <td>4.080000</td>\n",
       "      <td>1.0</td>\n",
       "    </tr>\n",
       "    <tr>\n",
       "      <th>75%</th>\n",
       "      <td>6.269945e+06</td>\n",
       "      <td>4.873890e+05</td>\n",
       "      <td>-3.000000</td>\n",
       "      <td>6.840000</td>\n",
       "      <td>1.0</td>\n",
       "    </tr>\n",
       "    <tr>\n",
       "      <th>max</th>\n",
       "      <td>6.397259e+06</td>\n",
       "      <td>1.894431e+06</td>\n",
       "      <td>-3.000000</td>\n",
       "      <td>53778.600000</td>\n",
       "      <td>1.0</td>\n",
       "    </tr>\n",
       "  </tbody>\n",
       "</table>\n",
       "</div>"
      ],
      "text/plain": [
       "          InvoiceNo     StockCode       Quantity     UnitPrice  \\\n",
       "count  8.871000e+03  8.506000e+03    8871.000000   8871.000000   \n",
       "mean   6.149158e+06  6.531598e+05     -92.328373     26.089900   \n",
       "std    1.426151e+05  4.381926e+05    3516.947922    614.397875   \n",
       "min    5.900169e+06  4.200000e+01 -242985.000000      0.020000   \n",
       "25%    6.022484e+06  4.655332e+05     -18.000000      2.010000   \n",
       "50%    6.156370e+06  4.771200e+05      -6.000000      4.080000   \n",
       "75%    6.269945e+06  4.873890e+05      -3.000000      6.840000   \n",
       "max    6.397259e+06  1.894431e+06      -3.000000  53778.600000   \n",
       "\n",
       "       Transaction_Status  \n",
       "count              8871.0  \n",
       "mean                  1.0  \n",
       "std                   0.0  \n",
       "min                   1.0  \n",
       "25%                   1.0  \n",
       "50%                   1.0  \n",
       "75%                   1.0  \n",
       "max                   1.0  "
      ]
     },
     "execution_count": 24,
     "metadata": {},
     "output_type": "execute_result"
    }
   ],
   "source": [
    "df['Transaction_Status'] = df['Quantity'] < 0\n",
    "df['Transaction_Status'] = df['Transaction_Status'].astype(int)\n",
    "cancelled_transactions = df[df['Transaction_Status'] == 1]\n",
    "cancelled_transactions.describe().drop('CustomerID', axis=1)"
   ]
  },
  {
   "cell_type": "code",
   "execution_count": 25,
   "id": "c89f79fc",
   "metadata": {
    "execution": {
     "iopub.execute_input": "2024-04-07T19:30:12.394879Z",
     "iopub.status.busy": "2024-04-07T19:30:12.394452Z",
     "iopub.status.idle": "2024-04-07T19:30:12.399917Z",
     "shell.execute_reply": "2024-04-07T19:30:12.398917Z"
    },
    "papermill": {
     "duration": 0.050107,
     "end_time": "2024-04-07T19:30:12.401929",
     "exception": false,
     "start_time": "2024-04-07T19:30:12.351822",
     "status": "completed"
    },
    "tags": []
   },
   "outputs": [
    {
     "name": "stdout",
     "output_type": "stream",
     "text": [
      "The percentage of cancelled transactions in the dataset is: 2.21%\n"
     ]
    }
   ],
   "source": [
    "cancelled_percentage = (cancelled_transactions.shape[0] / df.shape[0]) * 100\n",
    "\n",
    "print(f\"The percentage of cancelled transactions in the dataset is: {cancelled_percentage:.2f}%\")"
   ]
  },
  {
   "cell_type": "code",
   "execution_count": 26,
   "id": "18e90d55",
   "metadata": {},
   "outputs": [
    {
     "name": "stdout",
     "output_type": "stream",
     "text": [
      "perc of filled Transactions: 97.79091513538147%\n"
     ]
    }
   ],
   "source": [
    "numberofcanceled = df[df['Transaction_Status'] == 1].shape[0]\n",
    "numberofcanceled\n",
    "percof_canceled = ( numberofcanceled / df.shape[0] ) * 100\n",
    "percof_uncanceled = ( (df.shape[0] - numberofcanceled) / df.shape[0]) * 100\n",
    "percof_uncanceled\n",
    "print(f\"perc of filled Transactions: {percof_uncanceled}%\")"
   ]
  },
  {
   "cell_type": "code",
   "execution_count": 27,
   "id": "e4f51752",
   "metadata": {},
   "outputs": [
    {
     "data": {
      "image/png": "[encoded data removed]",
      "text/plain": [
       "<Figure size 640x480 with 1 Axes>"
      ]
     },
     "metadata": {},
     "output_type": "display_data"
    }
   ],
   "source": [
    "categories = ['Canceled', 'Uncanceled']\n",
    "values = [percof_canceled, percof_uncanceled ]\n",
    "plt.barh(categories, values , )\n",
    "\n",
    "plt.xlabel('Percentage')\n",
    "plt.title('Percentage of Canceled vs Uncanceled Transactions')\n",
    "\n",
    "for index, value in enumerate(values):\n",
    "    plt.text(value, index, f'{value:.2f}%', va='center')\n",
    "plt.show()\n"
   ]
  },
  {
   "cell_type": "code",
   "execution_count": 28,
   "id": "e992914b",
   "metadata": {},
   "outputs": [],
   "source": [
    "canceled_products = df[df['Transaction_Status'] == 1]\n",
    "most_canceled_products = canceled_products['StockCode'].value_counts()\n",
    "most_canceled_products = (most_canceled_products / canceled_products.shape[0] ) * 100"
   ]
  },
  {
   "cell_type": "code",
   "execution_count": 29,
   "id": "f1278439",
   "metadata": {},
   "outputs": [
    {
     "data": {
      "image/png": "[encoded data removed]",
      "text/plain": [
       "<Figure size 640x480 with 1 Axes>"
      ]
     },
     "metadata": {},
     "output_type": "display_data"
    }
   ],
   "source": [
    "top_5_index = most_canceled_products.head().index.astype(str)\n",
    "top_5_values = most_canceled_products.head().values\n",
    "plt.bar(top_5_index , top_5_values , color='#4CAF50' )\n",
    "plt.xlabel('Products')\n",
    "plt.ylabel('Number of cancelation')\n",
    "plt.title('Top 5 canceled products')\n",
    "plt.show()"
   ]
  },
  {
   "cell_type": "code",
   "execution_count": 30,
   "id": "db6af4f3",
   "metadata": {},
   "outputs": [],
   "source": [
    "saled_products = df[df['Transaction_Status'] == 0]\n",
    "saled_products = saled_products.groupby('StockCode')['Quantity'].sum()\n",
    "saled_products = saled_products.sort_values(ascending=False)"
   ]
  },
  {
   "cell_type": "code",
   "execution_count": 31,
   "id": "a559dae8",
   "metadata": {},
   "outputs": [],
   "source": [
    "saled_products_df = pd.DataFrame({'StockCode' : saled_products.index , 'Quantity' : saled_products.values})\n",
    "saled_products_df['Prop'] = ( saled_products_df['Quantity'] / saled_products_df['Quantity'].sum()  ) * 100"
   ]
  },
  {
   "cell_type": "code",
   "execution_count": 32,
   "id": "11ec3650",
   "metadata": {},
   "outputs": [
    {
     "data": {
      "image/png": "[encoded data removed]",
      "text/plain": [
       "<Figure size 640x480 with 1 Axes>"
      ]
     },
     "metadata": {},
     "output_type": "display_data"
    }
   ],
   "source": [
    "plt.pie(saled_products_df['Prop'].head(10), labels=(\"Prod_code \" + saled_products_df['StockCode'].head(10).astype(str)) , autopct='%1.1f%%')\n",
    "plt.title('Propration of most saled products')\n",
    "plt.show()"
   ]
  },
  {
   "cell_type": "markdown",
   "id": "b7942510",
   "metadata": {
    "papermill": {
     "duration": 0.040983,
     "end_time": "2024-04-07T19:30:12.484354",
     "exception": false,
     "start_time": "2024-04-07T19:30:12.443371",
     "status": "completed"
    },
    "tags": []
   },
   "source": [
    "<a id=\"StockCode_cleaning\"></a>\n",
    "# <b><span style='color:#fcc36d'>Step 3.5 |</span><span style='color:#ff6200'> Correcting StockCode Anomalies</span></b>"
   ]
  },
  {
   "cell_type": "code",
   "execution_count": 33,
   "id": "3d6562ab",
   "metadata": {
    "execution": {
     "iopub.execute_input": "2024-04-07T19:30:12.651173Z",
     "iopub.status.busy": "2024-04-07T19:30:12.650496Z",
     "iopub.status.idle": "2024-04-07T19:30:12.690110Z",
     "shell.execute_reply": "2024-04-07T19:30:12.688944Z"
    },
    "papermill": {
     "duration": 0.08479,
     "end_time": "2024-04-07T19:30:12.692470",
     "exception": false,
     "start_time": "2024-04-07T19:30:12.607680",
     "status": "completed"
    },
    "tags": []
   },
   "outputs": [],
   "source": [
    "df['InvoiceNo'] = df['InvoiceNo'].astype('object')\n",
    "df['StockCode'] = df['StockCode'].astype('object')"
   ]
  },
  {
   "cell_type": "code",
   "execution_count": 34,
   "id": "a93c80bc",
   "metadata": {
    "execution": {
     "iopub.execute_input": "2024-04-07T19:30:12.776021Z",
     "iopub.status.busy": "2024-04-07T19:30:12.775620Z",
     "iopub.status.idle": "2024-04-07T19:30:12.810738Z",
     "shell.execute_reply": "2024-04-07T19:30:12.809660Z"
    },
    "papermill": {
     "duration": 0.079363,
     "end_time": "2024-04-07T19:30:12.813166",
     "exception": false,
     "start_time": "2024-04-07T19:30:12.733803",
     "status": "completed"
    },
    "tags": []
   },
   "outputs": [
    {
     "name": "stdout",
     "output_type": "stream",
     "text": [
      "The number of unique stock codes in the dataset is: 3209\n"
     ]
    }
   ],
   "source": [
    "\n",
    "unique_stock_codes = df['StockCode'].nunique()\n",
    "print(f\"The number of unique stock codes in the dataset is: {unique_stock_codes}\")"
   ]
  },
  {
   "cell_type": "code",
   "execution_count": 35,
   "id": "fd6d0c18",
   "metadata": {
    "execution": {
     "iopub.execute_input": "2024-04-07T19:30:12.897311Z",
     "iopub.status.busy": "2024-04-07T19:30:12.896926Z",
     "iopub.status.idle": "2024-04-07T19:30:13.482746Z",
     "shell.execute_reply": "2024-04-07T19:30:13.481927Z"
    },
    "papermill": {
     "duration": 0.630421,
     "end_time": "2024-04-07T19:30:13.484707",
     "exception": false,
     "start_time": "2024-04-07T19:30:12.854286",
     "status": "completed"
    },
    "tags": []
   },
   "outputs": [
    {
     "data": {
      "image/png": "[encoded data removed]",
      "text/plain": [
       "<Figure size 1200x500 with 1 Axes>"
      ]
     },
     "metadata": {},
     "output_type": "display_data"
    }
   ],
   "source": [
    "top_10_stock_codes = df['StockCode'].value_counts(normalize=True).head(20) * 100\n",
    "\n",
    "plt.figure(figsize=(12, 5))\n",
    "top_10_stock_codes.plot(kind='barh', color='#ff6200')\n",
    "\n",
    "for index, value in enumerate(top_10_stock_codes):\n",
    "    plt.text(value, index+0.25, f'{value:.2f}%', fontsize=10)\n",
    "\n",
    "plt.title('Top 10 Most Frequent Stock Codes')\n",
    "plt.xlabel('Percentage Frequency (%)')\n",
    "plt.ylabel('Stock Codes')\n",
    "plt.gca().invert_yaxis()\n",
    "plt.show()"
   ]
  },
  {
   "cell_type": "code",
   "execution_count": 36,
   "id": "47074a70",
   "metadata": {
    "execution": {
     "iopub.execute_input": "2024-04-07T19:30:13.750647Z",
     "iopub.status.busy": "2024-04-07T19:30:13.749624Z",
     "iopub.status.idle": "2024-04-07T19:30:13.796076Z",
     "shell.execute_reply": "2024-04-07T19:30:13.795096Z"
    },
    "papermill": {
     "duration": 0.093496,
     "end_time": "2024-04-07T19:30:13.798329",
     "exception": false,
     "start_time": "2024-04-07T19:30:13.704833",
     "status": "completed"
    },
    "tags": []
   },
   "outputs": [
    {
     "name": "stdout",
     "output_type": "stream",
     "text": [
      "Value counts of numeric character frequencies in unique stock codes:\n",
      "----------------------------------------------------------------------\n",
      "7    2530\n",
      "8     678\n",
      "0       1\n",
      "3       1\n",
      "Name: count, dtype: int64\n"
     ]
    }
   ],
   "source": [
    "unique_stock_codes = df['StockCode'].unique()\n",
    "numeric_char_counts_in_unique_codes = pd.Series(unique_stock_codes).apply(lambda x: sum(c.isdigit() for c in str(x))).value_counts()\n",
    "\n",
    "print(\"Value counts of numeric character frequencies in unique stock codes:\")\n",
    "print(\"-\"*70)\n",
    "print(numeric_char_counts_in_unique_codes)"
   ]
  },
  {
   "cell_type": "code",
   "execution_count": 37,
   "id": "9da874ed",
   "metadata": {
    "execution": {
     "iopub.execute_input": "2024-04-07T19:30:13.974393Z",
     "iopub.status.busy": "2024-04-07T19:30:13.973300Z",
     "iopub.status.idle": "2024-04-07T19:30:13.986998Z",
     "shell.execute_reply": "2024-04-07T19:30:13.985600Z"
    },
    "papermill": {
     "duration": 0.060523,
     "end_time": "2024-04-07T19:30:13.989119",
     "exception": false,
     "start_time": "2024-04-07T19:30:13.928596",
     "status": "completed"
    },
    "tags": []
   },
   "outputs": [
    {
     "name": "stdout",
     "output_type": "stream",
     "text": [
      "Anomalous stock codes:\n",
      "----------------------\n",
      "nan\n",
      "42.0\n"
     ]
    }
   ],
   "source": [
    "anomalous_stock_codes = [code for code in unique_stock_codes if sum(c.isdigit() for c in str(code)) in (0, 3)]\n",
    "\n",
    "print(\"Anomalous stock codes:\")\n",
    "print(\"-\"*22)\n",
    "for code in anomalous_stock_codes:\n",
    "    print(code)"
   ]
  },
  {
   "cell_type": "code",
   "execution_count": 38,
   "id": "72ba891b",
   "metadata": {
    "execution": {
     "iopub.execute_input": "2024-04-07T19:30:14.166996Z",
     "iopub.status.busy": "2024-04-07T19:30:14.166575Z",
     "iopub.status.idle": "2024-04-07T19:30:14.194619Z",
     "shell.execute_reply": "2024-04-07T19:30:14.193391Z"
    },
    "papermill": {
     "duration": 0.075753,
     "end_time": "2024-04-07T19:30:14.196996",
     "exception": false,
     "start_time": "2024-04-07T19:30:14.121243",
     "status": "completed"
    },
    "tags": []
   },
   "outputs": [
    {
     "name": "stdout",
     "output_type": "stream",
     "text": [
      "The percentage of records with anomalous stock codes in the dataset is: 0.48%\n"
     ]
    }
   ],
   "source": [
    "percentage_anomalous = (df['StockCode'].isin(anomalous_stock_codes).sum() / len(df)) * 100\n",
    "\n",
    "print(f\"The percentage of records with anomalous stock codes in the dataset is: {percentage_anomalous:.2f}%\")"
   ]
  },
  {
   "cell_type": "code",
   "execution_count": 39,
   "id": "286aa0b6",
   "metadata": {
    "execution": {
     "iopub.execute_input": "2024-04-07T19:30:14.549319Z",
     "iopub.status.busy": "2024-04-07T19:30:14.548605Z",
     "iopub.status.idle": "2024-04-07T19:30:14.630358Z",
     "shell.execute_reply": "2024-04-07T19:30:14.629288Z"
    },
    "papermill": {
     "duration": 0.129183,
     "end_time": "2024-04-07T19:30:14.632926",
     "exception": false,
     "start_time": "2024-04-07T19:30:14.503743",
     "status": "completed"
    },
    "tags": []
   },
   "outputs": [],
   "source": [
    "df = df[~df['StockCode'].isin(anomalous_stock_codes)]"
   ]
  },
  {
   "cell_type": "code",
   "execution_count": 40,
   "id": "b55a588e",
   "metadata": {
    "execution": {
     "iopub.execute_input": "2024-04-07T19:30:14.725438Z",
     "iopub.status.busy": "2024-04-07T19:30:14.725034Z",
     "iopub.status.idle": "2024-04-07T19:30:14.731812Z",
     "shell.execute_reply": "2024-04-07T19:30:14.730730Z"
    },
    "papermill": {
     "duration": 0.055635,
     "end_time": "2024-04-07T19:30:14.734121",
     "exception": false,
     "start_time": "2024-04-07T19:30:14.678486",
     "status": "completed"
    },
    "tags": []
   },
   "outputs": [
    {
     "data": {
      "text/plain": [
       "399654"
      ]
     },
     "execution_count": 40,
     "metadata": {},
     "output_type": "execute_result"
    }
   ],
   "source": [
    "df.shape[0]"
   ]
  },
  {
   "cell_type": "markdown",
   "id": "d669032b",
   "metadata": {
    "papermill": {
     "duration": 0.046232,
     "end_time": "2024-04-07T19:30:14.825721",
     "exception": false,
     "start_time": "2024-04-07T19:30:14.779489",
     "status": "completed"
    },
    "tags": []
   },
   "source": [
    "<a id=\"Description_cleaning\"></a>\n",
    "# <b><span style='color:#fcc36d'>Step 3.6|</span><span style='color:#ff6200'> Cleaning Description Column</span></b>\n"
   ]
  },
  {
   "cell_type": "code",
   "execution_count": 41,
   "id": "3c45118d",
   "metadata": {
    "execution": {
     "iopub.execute_input": "2024-04-07T19:30:15.005502Z",
     "iopub.status.busy": "2024-04-07T19:30:15.005125Z",
     "iopub.status.idle": "2024-04-07T19:30:15.692379Z",
     "shell.execute_reply": "2024-04-07T19:30:15.691613Z"
    },
    "papermill": {
     "duration": 0.73621,
     "end_time": "2024-04-07T19:30:15.695485",
     "exception": false,
     "start_time": "2024-04-07T19:30:14.959275",
     "status": "completed"
    },
    "tags": []
   },
   "outputs": [
    {
     "data": {
      "image/png": "[encoded data removed]",
      "text/plain": [
       "<Figure size 1200x800 with 1 Axes>"
      ]
     },
     "metadata": {},
     "output_type": "display_data"
    }
   ],
   "source": [
    "description_counts = df['Description'].value_counts()\n",
    "\n",
    "top_30_descriptions = description_counts[:30]\n",
    "\n",
    "plt.figure(figsize=(12,8))\n",
    "plt.barh(top_30_descriptions.index[::-1], top_30_descriptions.values[::-1], color='#ff6200')\n",
    "\n",
    "plt.xlabel('Number of Occurrences')\n",
    "plt.ylabel('Description')\n",
    "plt.title('Top 30 Most Frequent Descriptions')\n",
    "\n",
    "plt.show()"
   ]
  },
  {
   "cell_type": "code",
   "execution_count": 42,
   "id": "995025d0",
   "metadata": {
    "execution": {
     "iopub.execute_input": "2024-04-07T19:30:15.884605Z",
     "iopub.status.busy": "2024-04-07T19:30:15.884213Z",
     "iopub.status.idle": "2024-04-07T19:30:15.962535Z",
     "shell.execute_reply": "2024-04-07T19:30:15.961025Z"
    },
    "papermill": {
     "duration": 0.128927,
     "end_time": "2024-04-07T19:30:15.964936",
     "exception": false,
     "start_time": "2024-04-07T19:30:15.836009",
     "status": "completed"
    },
    "tags": []
   },
   "outputs": [
    {
     "name": "stdout",
     "output_type": "stream",
     "text": [
      "The unique descriptions containing lowercase characters are:\n",
      "------------------------------------------------------------\n",
      "BAG 250g SWIRLY MARBLES\n",
      "BAG 125g SWIRLY MARBLES\n",
      "POLYESTER FILLER PAD 45x45cm\n",
      "ESSENTIAL BALM 3.5g TIN IN ENVELOPE\n",
      "3 TRADITIONAl BISCUIT CUTTERS  SET\n",
      "FLOWERS HANDBAG blue and orange\n",
      "POLYESTER FILLER PAD 30CMx30CM\n",
      "POLYESTER FILLER PAD 45x30cm\n",
      "POLYESTER FILLER PAD 40x40cm\n",
      "FOLK ART GREETING CARD,pack/12\n",
      "THE KING GIFT BAG 25x24x12cm\n",
      "FRENCH BLUE METAL DOOR SIGN No\n",
      "Next Day Carriage\n",
      "BAG 500g SWIRLY MARBLES\n",
      "NUMBER TILE COTTAGE GARDEN No\n",
      "NUMBER TILE VINTAGE FONT No \n",
      "POLYESTER FILLER PAD 65CMx65CM\n",
      "High Resolution Image\n",
      "POLYESTER FILLER PAD 60x40cm\n"
     ]
    }
   ],
   "source": [
    "lowercase_descriptions = df['Description'].unique()\n",
    "lowercase_descriptions = [desc for desc in lowercase_descriptions if any(char.islower() for char in desc)]\n",
    "\n",
    "print(\"The unique descriptions containing lowercase characters are:\")\n",
    "print(\"-\"*60)\n",
    "for desc in lowercase_descriptions:\n",
    "    print(desc)"
   ]
  },
  {
   "cell_type": "code",
   "execution_count": 43,
   "id": "230011f4",
   "metadata": {
    "execution": {
     "iopub.execute_input": "2024-04-07T19:30:16.252571Z",
     "iopub.status.busy": "2024-04-07T19:30:16.252186Z",
     "iopub.status.idle": "2024-04-07T19:30:16.554798Z",
     "shell.execute_reply": "2024-04-07T19:30:16.553706Z"
    },
    "papermill": {
     "duration": 0.353478,
     "end_time": "2024-04-07T19:30:16.557182",
     "exception": false,
     "start_time": "2024-04-07T19:30:16.203704",
     "status": "completed"
    },
    "tags": []
   },
   "outputs": [
    {
     "name": "stdout",
     "output_type": "stream",
     "text": [
      "The percentage of records with service-related descriptions in the dataset is: 0.02%\n"
     ]
    }
   ],
   "source": [
    "service_related_descriptions = [\"Next Day Carriage\", \"High Resolution Image\"]\n",
    "\n",
    "service_related_percentage = df[df['Description'].isin(service_related_descriptions)].shape[0] / df.shape[0] * 100\n",
    "\n",
    "print(f\"The percentage of records with service-related descriptions in the dataset is: {service_related_percentage:.2f}%\")\n",
    "\n",
    "df = df[~df['Description'].isin(service_related_descriptions)]\n",
    "\n",
    "df['Description'] = df['Description'].str.upper()"
   ]
  },
  {
   "cell_type": "code",
   "execution_count": 44,
   "id": "b31790eb",
   "metadata": {
    "execution": {
     "iopub.execute_input": "2024-04-07T19:30:16.652900Z",
     "iopub.status.busy": "2024-04-07T19:30:16.652411Z",
     "iopub.status.idle": "2024-04-07T19:30:16.659041Z",
     "shell.execute_reply": "2024-04-07T19:30:16.658036Z"
    },
    "papermill": {
     "duration": 0.056911,
     "end_time": "2024-04-07T19:30:16.661265",
     "exception": false,
     "start_time": "2024-04-07T19:30:16.604354",
     "status": "completed"
    },
    "tags": []
   },
   "outputs": [
    {
     "data": {
      "text/plain": [
       "399571"
      ]
     },
     "execution_count": 44,
     "metadata": {},
     "output_type": "execute_result"
    }
   ],
   "source": [
    "df.shape[0]"
   ]
  },
  {
   "cell_type": "markdown",
   "id": "3f0208e6",
   "metadata": {
    "papermill": {
     "duration": 0.046572,
     "end_time": "2024-04-07T19:30:16.755853",
     "exception": false,
     "start_time": "2024-04-07T19:30:16.709281",
     "status": "completed"
    },
    "tags": []
   },
   "source": [
    "<a id=\"UnitPrice_cleaning\"></a>\n",
    "# <b><span style='color:#fcc36d'>Step 3.7 |</span><span style='color:#ff6200'> Treating Zero Unit Prices</span></b>\n"
   ]
  },
  {
   "cell_type": "code",
   "execution_count": 45,
   "id": "ca716809",
   "metadata": {
    "execution": {
     "iopub.execute_input": "2024-04-07T19:30:16.949010Z",
     "iopub.status.busy": "2024-04-07T19:30:16.948274Z",
     "iopub.status.idle": "2024-04-07T19:30:16.973793Z",
     "shell.execute_reply": "2024-04-07T19:30:16.972755Z"
    },
    "papermill": {
     "duration": 0.076796,
     "end_time": "2024-04-07T19:30:16.975937",
     "exception": false,
     "start_time": "2024-04-07T19:30:16.899141",
     "status": "completed"
    },
    "scrolled": true,
    "tags": []
   },
   "outputs": [
    {
     "data": {
      "text/plain": [
       "count    3.995710e+05\n",
       "mean     8.259751e+00\n",
       "std      2.683503e+03\n",
       "min      0.000000e+00\n",
       "25%      1.730000e+00\n",
       "50%      2.700000e+00\n",
       "75%      5.180000e+00\n",
       "max      1.696285e+06\n",
       "Name: UnitPrice, dtype: float64"
      ]
     },
     "execution_count": 45,
     "metadata": {},
     "output_type": "execute_result"
    }
   ],
   "source": [
    "df['UnitPrice'].describe()"
   ]
  },
  {
   "cell_type": "code",
   "execution_count": 46,
   "id": "817a8311",
   "metadata": {
    "execution": {
     "iopub.execute_input": "2024-04-07T19:30:17.169030Z",
     "iopub.status.busy": "2024-04-07T19:30:17.167824Z",
     "iopub.status.idle": "2024-04-07T19:30:17.189028Z",
     "shell.execute_reply": "2024-04-07T19:30:17.187959Z"
    },
    "papermill": {
     "duration": 0.071698,
     "end_time": "2024-04-07T19:30:17.191083",
     "exception": false,
     "start_time": "2024-04-07T19:30:17.119385",
     "status": "completed"
    },
    "tags": []
   },
   "outputs": [
    {
     "data": {
      "text/html": [
       "<div>\n",
       "<style scoped>\n",
       "    .dataframe tbody tr th:only-of-type {\n",
       "        vertical-align: middle;\n",
       "    }\n",
       "\n",
       "    .dataframe tbody tr th {\n",
       "        vertical-align: top;\n",
       "    }\n",
       "\n",
       "    .dataframe thead th {\n",
       "        text-align: right;\n",
       "    }\n",
       "</style>\n",
       "<table border=\"1\" class=\"dataframe\">\n",
       "  <thead>\n",
       "    <tr style=\"text-align: right;\">\n",
       "      <th></th>\n",
       "      <th>Quantity</th>\n",
       "    </tr>\n",
       "  </thead>\n",
       "  <tbody>\n",
       "    <tr>\n",
       "      <th>count</th>\n",
       "      <td>33.000000</td>\n",
       "    </tr>\n",
       "    <tr>\n",
       "      <th>mean</th>\n",
       "      <td>1261.545455</td>\n",
       "    </tr>\n",
       "    <tr>\n",
       "      <th>std</th>\n",
       "      <td>6530.140825</td>\n",
       "    </tr>\n",
       "    <tr>\n",
       "      <th>min</th>\n",
       "      <td>3.000000</td>\n",
       "    </tr>\n",
       "    <tr>\n",
       "      <th>25%</th>\n",
       "      <td>6.000000</td>\n",
       "    </tr>\n",
       "    <tr>\n",
       "      <th>50%</th>\n",
       "      <td>33.000000</td>\n",
       "    </tr>\n",
       "    <tr>\n",
       "      <th>75%</th>\n",
       "      <td>108.000000</td>\n",
       "    </tr>\n",
       "    <tr>\n",
       "      <th>max</th>\n",
       "      <td>37620.000000</td>\n",
       "    </tr>\n",
       "  </tbody>\n",
       "</table>\n",
       "</div>"
      ],
      "text/plain": [
       "           Quantity\n",
       "count     33.000000\n",
       "mean    1261.545455\n",
       "std     6530.140825\n",
       "min        3.000000\n",
       "25%        6.000000\n",
       "50%       33.000000\n",
       "75%      108.000000\n",
       "max    37620.000000"
      ]
     },
     "execution_count": 46,
     "metadata": {},
     "output_type": "execute_result"
    }
   ],
   "source": [
    "df[df['UnitPrice']==0].describe()[['Quantity']]"
   ]
  },
  {
   "cell_type": "code",
   "execution_count": 47,
   "id": "027decbd",
   "metadata": {
    "execution": {
     "iopub.execute_input": "2024-04-07T19:30:17.484984Z",
     "iopub.status.busy": "2024-04-07T19:30:17.484540Z",
     "iopub.status.idle": "2024-04-07T19:30:17.546033Z",
     "shell.execute_reply": "2024-04-07T19:30:17.544820Z"
    },
    "papermill": {
     "duration": 0.1134,
     "end_time": "2024-04-07T19:30:17.548724",
     "exception": false,
     "start_time": "2024-04-07T19:30:17.435324",
     "status": "completed"
    },
    "tags": []
   },
   "outputs": [],
   "source": [
    "df = df[df['UnitPrice'] > 0]"
   ]
  },
  {
   "cell_type": "markdown",
   "id": "98e0ea0c",
   "metadata": {
    "papermill": {
     "duration": 0.047256,
     "end_time": "2024-04-07T19:30:17.643444",
     "exception": false,
     "start_time": "2024-04-07T19:30:17.596188",
     "status": "completed"
    },
    "tags": []
   },
   "source": [
    "<a id=\"outlier_cleaning\"></a>\n",
    "# <b><span style='color:#fcc36d'>Step 3.8 |</span><span style='color:#ff6200'> Outlier Treatment</span></b>\n"
   ]
  },
  {
   "cell_type": "code",
   "execution_count": 48,
   "id": "ada88c1f",
   "metadata": {
    "execution": {
     "iopub.execute_input": "2024-04-07T19:30:17.837707Z",
     "iopub.status.busy": "2024-04-07T19:30:17.836782Z",
     "iopub.status.idle": "2024-04-07T19:30:17.841978Z",
     "shell.execute_reply": "2024-04-07T19:30:17.840928Z"
    },
    "papermill": {
     "duration": 0.056793,
     "end_time": "2024-04-07T19:30:17.843971",
     "exception": false,
     "start_time": "2024-04-07T19:30:17.787178",
     "status": "completed"
    },
    "tags": []
   },
   "outputs": [],
   "source": [
    "df.reset_index(drop=True, inplace=True)"
   ]
  },
  {
   "cell_type": "code",
   "execution_count": 49,
   "id": "4d4340f0",
   "metadata": {
    "execution": {
     "iopub.execute_input": "2024-04-07T19:30:17.943519Z",
     "iopub.status.busy": "2024-04-07T19:30:17.942111Z",
     "iopub.status.idle": "2024-04-07T19:30:17.948309Z",
     "shell.execute_reply": "2024-04-07T19:30:17.947528Z"
    },
    "papermill": {
     "duration": 0.057243,
     "end_time": "2024-04-07T19:30:17.950137",
     "exception": false,
     "start_time": "2024-04-07T19:30:17.892894",
     "status": "completed"
    },
    "tags": []
   },
   "outputs": [
    {
     "data": {
      "text/plain": [
       "399538"
      ]
     },
     "execution_count": 49,
     "metadata": {},
     "output_type": "execute_result"
    }
   ],
   "source": [
    "df.shape[0]"
   ]
  },
  {
   "cell_type": "code",
   "execution_count": 50,
   "id": "8a4d699e",
   "metadata": {
    "execution": {
     "iopub.execute_input": "2024-04-07T19:30:18.049118Z",
     "iopub.status.busy": "2024-04-07T19:30:18.048712Z",
     "iopub.status.idle": "2024-04-07T19:30:18.068057Z",
     "shell.execute_reply": "2024-04-07T19:30:18.066895Z"
    },
    "papermill": {
     "duration": 0.071445,
     "end_time": "2024-04-07T19:30:18.070297",
     "exception": false,
     "start_time": "2024-04-07T19:30:17.998852",
     "status": "completed"
    },
    "tags": []
   },
   "outputs": [
    {
     "data": {
      "text/html": [
       "<div>\n",
       "<style scoped>\n",
       "    .dataframe tbody tr th:only-of-type {\n",
       "        vertical-align: middle;\n",
       "    }\n",
       "\n",
       "    .dataframe tbody tr th {\n",
       "        vertical-align: top;\n",
       "    }\n",
       "\n",
       "    .dataframe thead th {\n",
       "        text-align: right;\n",
       "    }\n",
       "</style>\n",
       "<table border=\"1\" class=\"dataframe\">\n",
       "  <thead>\n",
       "    <tr style=\"text-align: right;\">\n",
       "      <th></th>\n",
       "      <th>CustomerID</th>\n",
       "      <th>InvoiceNo</th>\n",
       "      <th>InvoiceDate</th>\n",
       "      <th>StockCode</th>\n",
       "      <th>Description</th>\n",
       "      <th>Quantity</th>\n",
       "      <th>UnitPrice</th>\n",
       "      <th>Country</th>\n",
       "      <th>Transaction_Status</th>\n",
       "    </tr>\n",
       "  </thead>\n",
       "  <tbody>\n",
       "    <tr>\n",
       "      <th>0</th>\n",
       "      <td>362103.0</td>\n",
       "      <td>5960185</td>\n",
       "      <td>Fri Apr 06 06:15:00 IST 2018</td>\n",
       "      <td>1528779.0</td>\n",
       "      <td>PINK PILLAR CANDLE SILVER FLOCK</td>\n",
       "      <td>3</td>\n",
       "      <td>4.08</td>\n",
       "      <td>United Kingdom</td>\n",
       "      <td>0</td>\n",
       "    </tr>\n",
       "    <tr>\n",
       "      <th>1</th>\n",
       "      <td>362103.0</td>\n",
       "      <td>5960185</td>\n",
       "      <td>Fri Apr 06 06:15:00 IST 2018</td>\n",
       "      <td>478086.0</td>\n",
       "      <td>PHOTO FRAME CORNICE</td>\n",
       "      <td>12</td>\n",
       "      <td>4.08</td>\n",
       "      <td>United Kingdom</td>\n",
       "      <td>0</td>\n",
       "    </tr>\n",
       "    <tr>\n",
       "      <th>2</th>\n",
       "      <td>362103.0</td>\n",
       "      <td>5960185</td>\n",
       "      <td>Fri Apr 06 06:15:00 IST 2018</td>\n",
       "      <td>1528779.0</td>\n",
       "      <td>IVORY PILLAR CANDLE GOLD FLOCK</td>\n",
       "      <td>3</td>\n",
       "      <td>4.08</td>\n",
       "      <td>United Kingdom</td>\n",
       "      <td>0</td>\n",
       "    </tr>\n",
       "    <tr>\n",
       "      <th>3</th>\n",
       "      <td>362103.0</td>\n",
       "      <td>5960185</td>\n",
       "      <td>Fri Apr 06 06:15:00 IST 2018</td>\n",
       "      <td>1732164.0</td>\n",
       "      <td>WOOD BLACK BOARD ANT WHITE FINISH</td>\n",
       "      <td>6</td>\n",
       "      <td>8.91</td>\n",
       "      <td>United Kingdom</td>\n",
       "      <td>0</td>\n",
       "    </tr>\n",
       "    <tr>\n",
       "      <th>4</th>\n",
       "      <td>362103.0</td>\n",
       "      <td>5960185</td>\n",
       "      <td>Fri Apr 06 06:15:00 IST 2018</td>\n",
       "      <td>451185.0</td>\n",
       "      <td>RETROSPOT HEART HOT WATER BOTTLE</td>\n",
       "      <td>30</td>\n",
       "      <td>6.84</td>\n",
       "      <td>United Kingdom</td>\n",
       "      <td>0</td>\n",
       "    </tr>\n",
       "    <tr>\n",
       "      <th>...</th>\n",
       "      <td>...</td>\n",
       "      <td>...</td>\n",
       "      <td>...</td>\n",
       "      <td>...</td>\n",
       "      <td>...</td>\n",
       "      <td>...</td>\n",
       "      <td>...</td>\n",
       "      <td>...</td>\n",
       "      <td>...</td>\n",
       "    </tr>\n",
       "    <tr>\n",
       "      <th>399533</th>\n",
       "      <td>372750.0</td>\n",
       "      <td>6162508</td>\n",
       "      <td>Wed Sep 26 13:29:00 IST 2018</td>\n",
       "      <td>483105.0</td>\n",
       "      <td>TRAVEL CARD WALLET I LOVE LONDON</td>\n",
       "      <td>216</td>\n",
       "      <td>0.58</td>\n",
       "      <td>United Kingdom</td>\n",
       "      <td>0</td>\n",
       "    </tr>\n",
       "    <tr>\n",
       "      <th>399534</th>\n",
       "      <td>372750.0</td>\n",
       "      <td>6162508</td>\n",
       "      <td>Wed Sep 26 13:29:00 IST 2018</td>\n",
       "      <td>444759.0</td>\n",
       "      <td>NO JUNK MAIL METAL SIGN</td>\n",
       "      <td>72</td>\n",
       "      <td>0.54</td>\n",
       "      <td>United Kingdom</td>\n",
       "      <td>0</td>\n",
       "    </tr>\n",
       "    <tr>\n",
       "      <th>399535</th>\n",
       "      <td>372750.0</td>\n",
       "      <td>6162508</td>\n",
       "      <td>Wed Sep 26 13:29:00 IST 2018</td>\n",
       "      <td>464415.0</td>\n",
       "      <td>METAL SIGN EMPIRE TEA</td>\n",
       "      <td>36</td>\n",
       "      <td>1.10</td>\n",
       "      <td>United Kingdom</td>\n",
       "      <td>0</td>\n",
       "    </tr>\n",
       "    <tr>\n",
       "      <th>399536</th>\n",
       "      <td>372750.0</td>\n",
       "      <td>6162508</td>\n",
       "      <td>Wed Sep 26 13:29:00 IST 2018</td>\n",
       "      <td>358764.0</td>\n",
       "      <td>LOVE POTION MASALA INCENSE</td>\n",
       "      <td>75</td>\n",
       "      <td>0.29</td>\n",
       "      <td>United Kingdom</td>\n",
       "      <td>0</td>\n",
       "    </tr>\n",
       "    <tr>\n",
       "      <th>399537</th>\n",
       "      <td>372750.0</td>\n",
       "      <td>6162508</td>\n",
       "      <td>Wed Sep 26 13:29:00 IST 2018</td>\n",
       "      <td>357252.0</td>\n",
       "      <td>ORIGAMI JASMINE INCENSE/CANDLE SET</td>\n",
       "      <td>30</td>\n",
       "      <td>1.18</td>\n",
       "      <td>United Kingdom</td>\n",
       "      <td>0</td>\n",
       "    </tr>\n",
       "  </tbody>\n",
       "</table>\n",
       "<p>399538 rows × 9 columns</p>\n",
       "</div>"
      ],
      "text/plain": [
       "        CustomerID InvoiceNo                   InvoiceDate  StockCode  \\\n",
       "0         362103.0   5960185  Fri Apr 06 06:15:00 IST 2018  1528779.0   \n",
       "1         362103.0   5960185  Fri Apr 06 06:15:00 IST 2018   478086.0   \n",
       "2         362103.0   5960185  Fri Apr 06 06:15:00 IST 2018  1528779.0   \n",
       "3         362103.0   5960185  Fri Apr 06 06:15:00 IST 2018  1732164.0   \n",
       "4         362103.0   5960185  Fri Apr 06 06:15:00 IST 2018   451185.0   \n",
       "...            ...       ...                           ...        ...   \n",
       "399533    372750.0   6162508  Wed Sep 26 13:29:00 IST 2018   483105.0   \n",
       "399534    372750.0   6162508  Wed Sep 26 13:29:00 IST 2018   444759.0   \n",
       "399535    372750.0   6162508  Wed Sep 26 13:29:00 IST 2018   464415.0   \n",
       "399536    372750.0   6162508  Wed Sep 26 13:29:00 IST 2018   358764.0   \n",
       "399537    372750.0   6162508  Wed Sep 26 13:29:00 IST 2018   357252.0   \n",
       "\n",
       "                               Description  Quantity  UnitPrice  \\\n",
       "0          PINK PILLAR CANDLE SILVER FLOCK         3       4.08   \n",
       "1                      PHOTO FRAME CORNICE        12       4.08   \n",
       "2           IVORY PILLAR CANDLE GOLD FLOCK         3       4.08   \n",
       "3        WOOD BLACK BOARD ANT WHITE FINISH         6       8.91   \n",
       "4         RETROSPOT HEART HOT WATER BOTTLE        30       6.84   \n",
       "...                                    ...       ...        ...   \n",
       "399533    TRAVEL CARD WALLET I LOVE LONDON       216       0.58   \n",
       "399534             NO JUNK MAIL METAL SIGN        72       0.54   \n",
       "399535               METAL SIGN EMPIRE TEA        36       1.10   \n",
       "399536          LOVE POTION MASALA INCENSE        75       0.29   \n",
       "399537  ORIGAMI JASMINE INCENSE/CANDLE SET        30       1.18   \n",
       "\n",
       "               Country  Transaction_Status  \n",
       "0       United Kingdom                   0  \n",
       "1       United Kingdom                   0  \n",
       "2       United Kingdom                   0  \n",
       "3       United Kingdom                   0  \n",
       "4       United Kingdom                   0  \n",
       "...                ...                 ...  \n",
       "399533  United Kingdom                   0  \n",
       "399534  United Kingdom                   0  \n",
       "399535  United Kingdom                   0  \n",
       "399536  United Kingdom                   0  \n",
       "399537  United Kingdom                   0  \n",
       "\n",
       "[399538 rows x 9 columns]"
      ]
     },
     "execution_count": 50,
     "metadata": {},
     "output_type": "execute_result"
    }
   ],
   "source": [
    "df"
   ]
  },
  {
   "cell_type": "markdown",
   "id": "c9d9d91e",
   "metadata": {
    "papermill": {
     "duration": 0.048498,
     "end_time": "2024-04-07T19:30:18.168693",
     "exception": false,
     "start_time": "2024-04-07T19:30:18.120195",
     "status": "completed"
    },
    "tags": []
   },
   "source": [
    "# "
   ]
  },
  {
   "cell_type": "markdown",
   "id": "a0d619a6",
   "metadata": {
    "papermill": {
     "duration": 0.048198,
     "end_time": "2024-04-07T19:30:18.265831",
     "exception": false,
     "start_time": "2024-04-07T19:30:18.217633",
     "status": "completed"
    },
    "tags": []
   },
   "source": [
    "<a id=\"Filter-year\"></a>\n",
    "# <b><span style='color:#fcc36d'>Step 3.9 |</span><span style='color:#ff6200'> Filter year > 2019</span></b>"
   ]
  },
  {
   "cell_type": "code",
   "execution_count": 51,
   "id": "aadef97e",
   "metadata": {
    "execution": {
     "iopub.execute_input": "2024-04-07T19:30:18.363252Z",
     "iopub.status.busy": "2024-04-07T19:30:18.362841Z",
     "iopub.status.idle": "2024-04-07T19:30:18.432158Z",
     "shell.execute_reply": "2024-04-07T19:30:18.430929Z"
    },
    "papermill": {
     "duration": 0.120496,
     "end_time": "2024-04-07T19:30:18.434199",
     "exception": false,
     "start_time": "2024-04-07T19:30:18.313703",
     "status": "completed"
    },
    "tags": []
   },
   "outputs": [
    {
     "data": {
      "text/plain": [
       "'Wed Sep 26 13:29:00 IST 2018'"
      ]
     },
     "execution_count": 51,
     "metadata": {},
     "output_type": "execute_result"
    }
   ],
   "source": [
    "df['InvoiceDate'].max()"
   ]
  },
  {
   "cell_type": "code",
   "execution_count": 52,
   "id": "17b9e6a2",
   "metadata": {
    "execution": {
     "iopub.execute_input": "2024-04-07T19:30:18.533520Z",
     "iopub.status.busy": "2024-04-07T19:30:18.532485Z",
     "iopub.status.idle": "2024-04-07T19:30:18.599740Z",
     "shell.execute_reply": "2024-04-07T19:30:18.598647Z"
    },
    "papermill": {
     "duration": 0.1195,
     "end_time": "2024-04-07T19:30:18.602224",
     "exception": false,
     "start_time": "2024-04-07T19:30:18.482724",
     "status": "completed"
    },
    "tags": []
   },
   "outputs": [
    {
     "data": {
      "text/plain": [
       "'Fri Apr 06 06:15:00 IST 2018'"
      ]
     },
     "execution_count": 52,
     "metadata": {},
     "output_type": "execute_result"
    }
   ],
   "source": [
    "df['InvoiceDate'].min()"
   ]
  },
  {
   "cell_type": "code",
   "execution_count": 53,
   "id": "bdc7e915",
   "metadata": {
    "execution": {
     "iopub.execute_input": "2024-04-07T19:30:18.702983Z",
     "iopub.status.busy": "2024-04-07T19:30:18.702594Z",
     "iopub.status.idle": "2024-04-07T19:30:19.111377Z",
     "shell.execute_reply": "2024-04-07T19:30:19.110327Z"
    },
    "papermill": {
     "duration": 0.462322,
     "end_time": "2024-04-07T19:30:19.113908",
     "exception": false,
     "start_time": "2024-04-07T19:30:18.651586",
     "status": "completed"
    },
    "tags": []
   },
   "outputs": [
    {
     "data": {
      "text/plain": [
       "2019"
      ]
     },
     "execution_count": 53,
     "metadata": {},
     "output_type": "execute_result"
    }
   ],
   "source": [
    "df['InvoiceDate'] = pd.to_datetime(df['InvoiceDate'])\n",
    "max_year = df['InvoiceDate'].dt.year.max()\n",
    "max_year\n",
    "df = df[df['InvoiceDate'].dt.year != max_year]\n",
    "df['InvoiceDate'].dt.year.max()"
   ]
  },
  {
   "cell_type": "markdown",
   "id": "3ea6a05d",
   "metadata": {
    "papermill": {
     "duration": 0.047926,
     "end_time": "2024-04-07T19:30:19.210259",
     "exception": false,
     "start_time": "2024-04-07T19:30:19.162333",
     "status": "completed"
    },
    "tags": []
   },
   "source": [
    "<a id=\"question-2\"></a>\n",
    "# <b><span style='color:#fcc36d'>Step 3.10 |</span><span style='color:#ff6200'> Monthly Summray</span></b>\n"
   ]
  },
  {
   "cell_type": "code",
   "execution_count": 54,
   "id": "3cf19116",
   "metadata": {
    "execution": {
     "iopub.execute_input": "2024-04-07T19:30:19.309220Z",
     "iopub.status.busy": "2024-04-07T19:30:19.308836Z",
     "iopub.status.idle": "2024-04-07T19:30:19.631010Z",
     "shell.execute_reply": "2024-04-07T19:30:19.630214Z"
    },
    "papermill": {
     "duration": 0.374295,
     "end_time": "2024-04-07T19:30:19.633231",
     "exception": false,
     "start_time": "2024-04-07T19:30:19.258936",
     "status": "completed"
    },
    "tags": []
   },
   "outputs": [
    {
     "name": "stdout",
     "output_type": "stream",
     "text": [
      "Monthly Summary - Number of Items Purchased and Total Prices:\n",
      "            Quantity   UnitPrice\n",
      "Year Month                      \n",
      "2018 2        726264  1794359.86\n",
      "     3        559545    58251.72\n",
      "     4        790959    93203.80\n",
      "     5        906267   104781.69\n",
      "     6       1022895   116143.70\n",
      "     7       1030812   111020.45\n",
      "     8       1042935   118034.04\n",
      "     9        982275   102377.12\n",
      "     10      1298127   107737.03\n",
      "     11      1147134   115500.08\n",
      "     12      1823526   195904.13\n",
      "2019 1       1928412   221038.62\n",
      "     2       1304184   156919.83\n"
     ]
    }
   ],
   "source": [
    "\n",
    "df_sample = df.copy()\n",
    "df_sample2=df.copy()\n",
    "df_sample['InvoiceDate'] = pd.to_datetime(df_sample['InvoiceDate'])\n",
    "\n",
    "df_sample['Year'] = df_sample['InvoiceDate'].dt.year\n",
    "df_sample['Month'] = df_sample['InvoiceDate'].dt.month\n",
    "\n",
    "monthly_summary = df_sample.groupby(['Year', 'Month']).agg({'Quantity': 'sum', 'UnitPrice': 'sum'})\n",
    "\n",
    "print(\"Monthly Summary - Number of Items Purchased and Total Prices:\")\n",
    "print(monthly_summary)\n"
   ]
  },
  {
   "cell_type": "code",
   "execution_count": 55,
   "id": "6d144f5d",
   "metadata": {
    "execution": {
     "iopub.execute_input": "2024-04-07T19:30:19.737442Z",
     "iopub.status.busy": "2024-04-07T19:30:19.737010Z",
     "iopub.status.idle": "2024-04-07T19:30:19.758165Z",
     "shell.execute_reply": "2024-04-07T19:30:19.756937Z"
    },
    "papermill": {
     "duration": 0.078471,
     "end_time": "2024-04-07T19:30:19.760407",
     "exception": false,
     "start_time": "2024-04-07T19:30:19.681936",
     "status": "completed"
    },
    "tags": []
   },
   "outputs": [
    {
     "data": {
      "text/html": [
       "<div>\n",
       "<style scoped>\n",
       "    .dataframe tbody tr th:only-of-type {\n",
       "        vertical-align: middle;\n",
       "    }\n",
       "\n",
       "    .dataframe tbody tr th {\n",
       "        vertical-align: top;\n",
       "    }\n",
       "\n",
       "    .dataframe thead th {\n",
       "        text-align: right;\n",
       "    }\n",
       "</style>\n",
       "<table border=\"1\" class=\"dataframe\">\n",
       "  <thead>\n",
       "    <tr style=\"text-align: right;\">\n",
       "      <th></th>\n",
       "      <th>CustomerID</th>\n",
       "      <th>InvoiceNo</th>\n",
       "      <th>InvoiceDate</th>\n",
       "      <th>StockCode</th>\n",
       "      <th>Description</th>\n",
       "      <th>Quantity</th>\n",
       "      <th>UnitPrice</th>\n",
       "      <th>Country</th>\n",
       "      <th>Transaction_Status</th>\n",
       "    </tr>\n",
       "  </thead>\n",
       "  <tbody>\n",
       "    <tr>\n",
       "      <th>0</th>\n",
       "      <td>362103.0</td>\n",
       "      <td>5960185</td>\n",
       "      <td>2018-04-06 06:15:00</td>\n",
       "      <td>1528779.0</td>\n",
       "      <td>PINK PILLAR CANDLE SILVER FLOCK</td>\n",
       "      <td>3</td>\n",
       "      <td>4.08</td>\n",
       "      <td>United Kingdom</td>\n",
       "      <td>0</td>\n",
       "    </tr>\n",
       "    <tr>\n",
       "      <th>1</th>\n",
       "      <td>362103.0</td>\n",
       "      <td>5960185</td>\n",
       "      <td>2018-04-06 06:15:00</td>\n",
       "      <td>478086.0</td>\n",
       "      <td>PHOTO FRAME CORNICE</td>\n",
       "      <td>12</td>\n",
       "      <td>4.08</td>\n",
       "      <td>United Kingdom</td>\n",
       "      <td>0</td>\n",
       "    </tr>\n",
       "    <tr>\n",
       "      <th>2</th>\n",
       "      <td>362103.0</td>\n",
       "      <td>5960185</td>\n",
       "      <td>2018-04-06 06:15:00</td>\n",
       "      <td>1528779.0</td>\n",
       "      <td>IVORY PILLAR CANDLE GOLD FLOCK</td>\n",
       "      <td>3</td>\n",
       "      <td>4.08</td>\n",
       "      <td>United Kingdom</td>\n",
       "      <td>0</td>\n",
       "    </tr>\n",
       "    <tr>\n",
       "      <th>3</th>\n",
       "      <td>362103.0</td>\n",
       "      <td>5960185</td>\n",
       "      <td>2018-04-06 06:15:00</td>\n",
       "      <td>1732164.0</td>\n",
       "      <td>WOOD BLACK BOARD ANT WHITE FINISH</td>\n",
       "      <td>6</td>\n",
       "      <td>8.91</td>\n",
       "      <td>United Kingdom</td>\n",
       "      <td>0</td>\n",
       "    </tr>\n",
       "    <tr>\n",
       "      <th>4</th>\n",
       "      <td>362103.0</td>\n",
       "      <td>5960185</td>\n",
       "      <td>2018-04-06 06:15:00</td>\n",
       "      <td>451185.0</td>\n",
       "      <td>RETROSPOT HEART HOT WATER BOTTLE</td>\n",
       "      <td>30</td>\n",
       "      <td>6.84</td>\n",
       "      <td>United Kingdom</td>\n",
       "      <td>0</td>\n",
       "    </tr>\n",
       "    <tr>\n",
       "      <th>...</th>\n",
       "      <td>...</td>\n",
       "      <td>...</td>\n",
       "      <td>...</td>\n",
       "      <td>...</td>\n",
       "      <td>...</td>\n",
       "      <td>...</td>\n",
       "      <td>...</td>\n",
       "      <td>...</td>\n",
       "      <td>...</td>\n",
       "    </tr>\n",
       "    <tr>\n",
       "      <th>399533</th>\n",
       "      <td>372750.0</td>\n",
       "      <td>6162508</td>\n",
       "      <td>2018-09-26 13:29:00</td>\n",
       "      <td>483105.0</td>\n",
       "      <td>TRAVEL CARD WALLET I LOVE LONDON</td>\n",
       "      <td>216</td>\n",
       "      <td>0.58</td>\n",
       "      <td>United Kingdom</td>\n",
       "      <td>0</td>\n",
       "    </tr>\n",
       "    <tr>\n",
       "      <th>399534</th>\n",
       "      <td>372750.0</td>\n",
       "      <td>6162508</td>\n",
       "      <td>2018-09-26 13:29:00</td>\n",
       "      <td>444759.0</td>\n",
       "      <td>NO JUNK MAIL METAL SIGN</td>\n",
       "      <td>72</td>\n",
       "      <td>0.54</td>\n",
       "      <td>United Kingdom</td>\n",
       "      <td>0</td>\n",
       "    </tr>\n",
       "    <tr>\n",
       "      <th>399535</th>\n",
       "      <td>372750.0</td>\n",
       "      <td>6162508</td>\n",
       "      <td>2018-09-26 13:29:00</td>\n",
       "      <td>464415.0</td>\n",
       "      <td>METAL SIGN EMPIRE TEA</td>\n",
       "      <td>36</td>\n",
       "      <td>1.10</td>\n",
       "      <td>United Kingdom</td>\n",
       "      <td>0</td>\n",
       "    </tr>\n",
       "    <tr>\n",
       "      <th>399536</th>\n",
       "      <td>372750.0</td>\n",
       "      <td>6162508</td>\n",
       "      <td>2018-09-26 13:29:00</td>\n",
       "      <td>358764.0</td>\n",
       "      <td>LOVE POTION MASALA INCENSE</td>\n",
       "      <td>75</td>\n",
       "      <td>0.29</td>\n",
       "      <td>United Kingdom</td>\n",
       "      <td>0</td>\n",
       "    </tr>\n",
       "    <tr>\n",
       "      <th>399537</th>\n",
       "      <td>372750.0</td>\n",
       "      <td>6162508</td>\n",
       "      <td>2018-09-26 13:29:00</td>\n",
       "      <td>357252.0</td>\n",
       "      <td>ORIGAMI JASMINE INCENSE/CANDLE SET</td>\n",
       "      <td>30</td>\n",
       "      <td>1.18</td>\n",
       "      <td>United Kingdom</td>\n",
       "      <td>0</td>\n",
       "    </tr>\n",
       "  </tbody>\n",
       "</table>\n",
       "<p>398425 rows × 9 columns</p>\n",
       "</div>"
      ],
      "text/plain": [
       "        CustomerID InvoiceNo         InvoiceDate  StockCode  \\\n",
       "0         362103.0   5960185 2018-04-06 06:15:00  1528779.0   \n",
       "1         362103.0   5960185 2018-04-06 06:15:00   478086.0   \n",
       "2         362103.0   5960185 2018-04-06 06:15:00  1528779.0   \n",
       "3         362103.0   5960185 2018-04-06 06:15:00  1732164.0   \n",
       "4         362103.0   5960185 2018-04-06 06:15:00   451185.0   \n",
       "...            ...       ...                 ...        ...   \n",
       "399533    372750.0   6162508 2018-09-26 13:29:00   483105.0   \n",
       "399534    372750.0   6162508 2018-09-26 13:29:00   444759.0   \n",
       "399535    372750.0   6162508 2018-09-26 13:29:00   464415.0   \n",
       "399536    372750.0   6162508 2018-09-26 13:29:00   358764.0   \n",
       "399537    372750.0   6162508 2018-09-26 13:29:00   357252.0   \n",
       "\n",
       "                               Description  Quantity  UnitPrice  \\\n",
       "0          PINK PILLAR CANDLE SILVER FLOCK         3       4.08   \n",
       "1                      PHOTO FRAME CORNICE        12       4.08   \n",
       "2           IVORY PILLAR CANDLE GOLD FLOCK         3       4.08   \n",
       "3        WOOD BLACK BOARD ANT WHITE FINISH         6       8.91   \n",
       "4         RETROSPOT HEART HOT WATER BOTTLE        30       6.84   \n",
       "...                                    ...       ...        ...   \n",
       "399533    TRAVEL CARD WALLET I LOVE LONDON       216       0.58   \n",
       "399534             NO JUNK MAIL METAL SIGN        72       0.54   \n",
       "399535               METAL SIGN EMPIRE TEA        36       1.10   \n",
       "399536          LOVE POTION MASALA INCENSE        75       0.29   \n",
       "399537  ORIGAMI JASMINE INCENSE/CANDLE SET        30       1.18   \n",
       "\n",
       "               Country  Transaction_Status  \n",
       "0       United Kingdom                   0  \n",
       "1       United Kingdom                   0  \n",
       "2       United Kingdom                   0  \n",
       "3       United Kingdom                   0  \n",
       "4       United Kingdom                   0  \n",
       "...                ...                 ...  \n",
       "399533  United Kingdom                   0  \n",
       "399534  United Kingdom                   0  \n",
       "399535  United Kingdom                   0  \n",
       "399536  United Kingdom                   0  \n",
       "399537  United Kingdom                   0  \n",
       "\n",
       "[398425 rows x 9 columns]"
      ]
     },
     "execution_count": 55,
     "metadata": {},
     "output_type": "execute_result"
    }
   ],
   "source": [
    "df"
   ]
  },
  {
   "cell_type": "markdown",
   "id": "687352f8",
   "metadata": {
    "papermill": {
     "duration": 0.062791,
     "end_time": "2024-04-07T19:30:19.875146",
     "exception": false,
     "start_time": "2024-04-07T19:30:19.812355",
     "status": "completed"
    },
    "tags": []
   },
   "source": [
    "<a id=\"question-3\"></a>\n",
    "# <b><span style='color:#fcc36d'>Step 3.11 |</span><span style='color:#ff6200'> Number of purchased for each user in 30 Day</span></b>\n"
   ]
  },
  {
   "cell_type": "code",
   "execution_count": 56,
   "id": "1ded3bef",
   "metadata": {
    "execution": {
     "iopub.execute_input": "2024-04-07T19:30:19.976880Z",
     "iopub.status.busy": "2024-04-07T19:30:19.976406Z",
     "iopub.status.idle": "2024-04-07T19:30:20.549381Z",
     "shell.execute_reply": "2024-04-07T19:30:20.548289Z"
    },
    "papermill": {
     "duration": 0.626372,
     "end_time": "2024-04-07T19:30:20.552015",
     "exception": false,
     "start_time": "2024-04-07T19:30:19.925643",
     "status": "completed"
    },
    "tags": []
   },
   "outputs": [
    {
     "name": "stdout",
     "output_type": "stream",
     "text": [
      "        CustomerID         InvoiceDate  Quantity\n",
      "0         259266.0 2018-04-01 06:01:00  222645.0\n",
      "1         259266.0 2018-04-01 06:17:00       0.0\n",
      "2         259287.0 2018-04-09 10:30:00      12.0\n",
      "3         259287.0 2018-04-09 10:30:00      24.0\n",
      "4         259287.0 2018-04-09 10:30:00      36.0\n",
      "...            ...                 ...       ...\n",
      "398420    384027.0 2018-12-24 06:23:00    2826.0\n",
      "398421    384027.0 2018-12-24 06:23:00    2970.0\n",
      "398422    384027.0 2019-01-09 05:29:00    3042.0\n",
      "398423    384027.0 2019-01-09 05:29:00    3150.0\n",
      "398424    384027.0 2019-01-09 05:29:00    3294.0\n",
      "\n",
      "[398425 rows x 3 columns]\n"
     ]
    }
   ],
   "source": [
    "df_sample2['InvoiceDate'] = pd.to_datetime(df_sample2['InvoiceDate'])\n",
    "\n",
    "df_sample2.set_index('InvoiceDate', inplace=True)\n",
    "\n",
    "df_sample2.sort_index(inplace=True)\n",
    "\n",
    "result = df_sample2.groupby('CustomerID').rolling('30D')['Quantity'].sum().reset_index()\n",
    "\n",
    "print(result)\n"
   ]
  },
  {
   "cell_type": "markdown",
   "id": "ce1965b5",
   "metadata": {
    "papermill": {
     "duration": 0.049771,
     "end_time": "2024-04-07T19:30:20.650916",
     "exception": false,
     "start_time": "2024-04-07T19:30:20.601145",
     "status": "completed"
    },
    "tags": []
   },
   "source": [
    "<a id=\"feature_engineering\"></a>\n",
    "# <p style=\"background-color: #ff6200; font-family:calibri; color:white; font-size:140%; font-family:Verdana; text-align:center; border-radius:15px 50px;\">Step 4 | Extracting New Feature </p>"
   ]
  },
  {
   "cell_type": "markdown",
   "id": "2254fb1a",
   "metadata": {
    "papermill": {
     "duration": 0.049004,
     "end_time": "2024-04-07T19:30:21.049784",
     "exception": false,
     "start_time": "2024-04-07T19:30:21.000780",
     "status": "completed"
    },
    "tags": []
   },
   "source": [
    "<a id=\"recency\"></a>\n",
    "## <b><span style='color:#fcc36d'>Step 4.1.1 |</span><span style='color:#ff6200'> Days Since Last Purchase for each customer</span></b>"
   ]
  },
  {
   "cell_type": "code",
   "execution_count": 57,
   "id": "99f079c9",
   "metadata": {
    "execution": {
     "iopub.execute_input": "2024-04-07T19:30:21.345496Z",
     "iopub.status.busy": "2024-04-07T19:30:21.344629Z",
     "iopub.status.idle": "2024-04-07T19:30:21.988228Z",
     "shell.execute_reply": "2024-04-07T19:30:21.987213Z"
    },
    "papermill": {
     "duration": 0.696376,
     "end_time": "2024-04-07T19:30:21.990702",
     "exception": false,
     "start_time": "2024-04-07T19:30:21.294326",
     "status": "completed"
    },
    "tags": []
   },
   "outputs": [],
   "source": [
    "\n",
    "df['InvoiceDay'] = df['InvoiceDate'].dt.date\n",
    "\n",
    "customer_data = df.groupby('CustomerID')['InvoiceDay'].max().reset_index()\n",
    "most_recent_date = df['InvoiceDay'].max()\n",
    "\n",
    "customer_data['InvoiceDay'] = pd.to_datetime(customer_data['InvoiceDay'])\n",
    "most_recent_date = pd.to_datetime(most_recent_date)\n",
    "\n",
    "customer_data['Days_Since_Last_Purchase'] = (most_recent_date - customer_data['InvoiceDay']).dt.days\n",
    "customer_data.drop(columns=['InvoiceDay'], inplace=True)"
   ]
  },
  {
   "cell_type": "code",
   "execution_count": 58,
   "id": "2e19e457",
   "metadata": {
    "execution": {
     "iopub.execute_input": "2024-04-07T19:30:22.188133Z",
     "iopub.status.busy": "2024-04-07T19:30:22.187742Z",
     "iopub.status.idle": "2024-04-07T19:30:22.207105Z",
     "shell.execute_reply": "2024-04-07T19:30:22.205970Z"
    },
    "papermill": {
     "duration": 0.072251,
     "end_time": "2024-04-07T19:30:22.209246",
     "exception": false,
     "start_time": "2024-04-07T19:30:22.136995",
     "status": "completed"
    },
    "tags": []
   },
   "outputs": [
    {
     "data": {
      "text/html": [
       "<div>\n",
       "<style scoped>\n",
       "    .dataframe tbody tr th:only-of-type {\n",
       "        vertical-align: middle;\n",
       "    }\n",
       "\n",
       "    .dataframe tbody tr th {\n",
       "        vertical-align: top;\n",
       "    }\n",
       "\n",
       "    .dataframe thead th {\n",
       "        text-align: right;\n",
       "    }\n",
       "</style>\n",
       "<table border=\"1\" class=\"dataframe\">\n",
       "  <thead>\n",
       "    <tr style=\"text-align: right;\">\n",
       "      <th></th>\n",
       "      <th>CustomerID</th>\n",
       "      <th>InvoiceNo</th>\n",
       "      <th>InvoiceDate</th>\n",
       "      <th>StockCode</th>\n",
       "      <th>Description</th>\n",
       "      <th>Quantity</th>\n",
       "      <th>UnitPrice</th>\n",
       "      <th>Country</th>\n",
       "      <th>Transaction_Status</th>\n",
       "      <th>InvoiceDay</th>\n",
       "    </tr>\n",
       "  </thead>\n",
       "  <tbody>\n",
       "    <tr>\n",
       "      <th>0</th>\n",
       "      <td>362103.0</td>\n",
       "      <td>5960185</td>\n",
       "      <td>2018-04-06 06:15:00</td>\n",
       "      <td>1528779.0</td>\n",
       "      <td>PINK PILLAR CANDLE SILVER FLOCK</td>\n",
       "      <td>3</td>\n",
       "      <td>4.08</td>\n",
       "      <td>United Kingdom</td>\n",
       "      <td>0</td>\n",
       "      <td>2018-04-06</td>\n",
       "    </tr>\n",
       "    <tr>\n",
       "      <th>1</th>\n",
       "      <td>362103.0</td>\n",
       "      <td>5960185</td>\n",
       "      <td>2018-04-06 06:15:00</td>\n",
       "      <td>478086.0</td>\n",
       "      <td>PHOTO FRAME CORNICE</td>\n",
       "      <td>12</td>\n",
       "      <td>4.08</td>\n",
       "      <td>United Kingdom</td>\n",
       "      <td>0</td>\n",
       "      <td>2018-04-06</td>\n",
       "    </tr>\n",
       "    <tr>\n",
       "      <th>2</th>\n",
       "      <td>362103.0</td>\n",
       "      <td>5960185</td>\n",
       "      <td>2018-04-06 06:15:00</td>\n",
       "      <td>1528779.0</td>\n",
       "      <td>IVORY PILLAR CANDLE GOLD FLOCK</td>\n",
       "      <td>3</td>\n",
       "      <td>4.08</td>\n",
       "      <td>United Kingdom</td>\n",
       "      <td>0</td>\n",
       "      <td>2018-04-06</td>\n",
       "    </tr>\n",
       "    <tr>\n",
       "      <th>3</th>\n",
       "      <td>362103.0</td>\n",
       "      <td>5960185</td>\n",
       "      <td>2018-04-06 06:15:00</td>\n",
       "      <td>1732164.0</td>\n",
       "      <td>WOOD BLACK BOARD ANT WHITE FINISH</td>\n",
       "      <td>6</td>\n",
       "      <td>8.91</td>\n",
       "      <td>United Kingdom</td>\n",
       "      <td>0</td>\n",
       "      <td>2018-04-06</td>\n",
       "    </tr>\n",
       "    <tr>\n",
       "      <th>4</th>\n",
       "      <td>362103.0</td>\n",
       "      <td>5960185</td>\n",
       "      <td>2018-04-06 06:15:00</td>\n",
       "      <td>451185.0</td>\n",
       "      <td>RETROSPOT HEART HOT WATER BOTTLE</td>\n",
       "      <td>30</td>\n",
       "      <td>6.84</td>\n",
       "      <td>United Kingdom</td>\n",
       "      <td>0</td>\n",
       "      <td>2018-04-06</td>\n",
       "    </tr>\n",
       "    <tr>\n",
       "      <th>...</th>\n",
       "      <td>...</td>\n",
       "      <td>...</td>\n",
       "      <td>...</td>\n",
       "      <td>...</td>\n",
       "      <td>...</td>\n",
       "      <td>...</td>\n",
       "      <td>...</td>\n",
       "      <td>...</td>\n",
       "      <td>...</td>\n",
       "      <td>...</td>\n",
       "    </tr>\n",
       "    <tr>\n",
       "      <th>399533</th>\n",
       "      <td>372750.0</td>\n",
       "      <td>6162508</td>\n",
       "      <td>2018-09-26 13:29:00</td>\n",
       "      <td>483105.0</td>\n",
       "      <td>TRAVEL CARD WALLET I LOVE LONDON</td>\n",
       "      <td>216</td>\n",
       "      <td>0.58</td>\n",
       "      <td>United Kingdom</td>\n",
       "      <td>0</td>\n",
       "      <td>2018-09-26</td>\n",
       "    </tr>\n",
       "    <tr>\n",
       "      <th>399534</th>\n",
       "      <td>372750.0</td>\n",
       "      <td>6162508</td>\n",
       "      <td>2018-09-26 13:29:00</td>\n",
       "      <td>444759.0</td>\n",
       "      <td>NO JUNK MAIL METAL SIGN</td>\n",
       "      <td>72</td>\n",
       "      <td>0.54</td>\n",
       "      <td>United Kingdom</td>\n",
       "      <td>0</td>\n",
       "      <td>2018-09-26</td>\n",
       "    </tr>\n",
       "    <tr>\n",
       "      <th>399535</th>\n",
       "      <td>372750.0</td>\n",
       "      <td>6162508</td>\n",
       "      <td>2018-09-26 13:29:00</td>\n",
       "      <td>464415.0</td>\n",
       "      <td>METAL SIGN EMPIRE TEA</td>\n",
       "      <td>36</td>\n",
       "      <td>1.10</td>\n",
       "      <td>United Kingdom</td>\n",
       "      <td>0</td>\n",
       "      <td>2018-09-26</td>\n",
       "    </tr>\n",
       "    <tr>\n",
       "      <th>399536</th>\n",
       "      <td>372750.0</td>\n",
       "      <td>6162508</td>\n",
       "      <td>2018-09-26 13:29:00</td>\n",
       "      <td>358764.0</td>\n",
       "      <td>LOVE POTION MASALA INCENSE</td>\n",
       "      <td>75</td>\n",
       "      <td>0.29</td>\n",
       "      <td>United Kingdom</td>\n",
       "      <td>0</td>\n",
       "      <td>2018-09-26</td>\n",
       "    </tr>\n",
       "    <tr>\n",
       "      <th>399537</th>\n",
       "      <td>372750.0</td>\n",
       "      <td>6162508</td>\n",
       "      <td>2018-09-26 13:29:00</td>\n",
       "      <td>357252.0</td>\n",
       "      <td>ORIGAMI JASMINE INCENSE/CANDLE SET</td>\n",
       "      <td>30</td>\n",
       "      <td>1.18</td>\n",
       "      <td>United Kingdom</td>\n",
       "      <td>0</td>\n",
       "      <td>2018-09-26</td>\n",
       "    </tr>\n",
       "  </tbody>\n",
       "</table>\n",
       "<p>398425 rows × 10 columns</p>\n",
       "</div>"
      ],
      "text/plain": [
       "        CustomerID InvoiceNo         InvoiceDate  StockCode  \\\n",
       "0         362103.0   5960185 2018-04-06 06:15:00  1528779.0   \n",
       "1         362103.0   5960185 2018-04-06 06:15:00   478086.0   \n",
       "2         362103.0   5960185 2018-04-06 06:15:00  1528779.0   \n",
       "3         362103.0   5960185 2018-04-06 06:15:00  1732164.0   \n",
       "4         362103.0   5960185 2018-04-06 06:15:00   451185.0   \n",
       "...            ...       ...                 ...        ...   \n",
       "399533    372750.0   6162508 2018-09-26 13:29:00   483105.0   \n",
       "399534    372750.0   6162508 2018-09-26 13:29:00   444759.0   \n",
       "399535    372750.0   6162508 2018-09-26 13:29:00   464415.0   \n",
       "399536    372750.0   6162508 2018-09-26 13:29:00   358764.0   \n",
       "399537    372750.0   6162508 2018-09-26 13:29:00   357252.0   \n",
       "\n",
       "                               Description  Quantity  UnitPrice  \\\n",
       "0          PINK PILLAR CANDLE SILVER FLOCK         3       4.08   \n",
       "1                      PHOTO FRAME CORNICE        12       4.08   \n",
       "2           IVORY PILLAR CANDLE GOLD FLOCK         3       4.08   \n",
       "3        WOOD BLACK BOARD ANT WHITE FINISH         6       8.91   \n",
       "4         RETROSPOT HEART HOT WATER BOTTLE        30       6.84   \n",
       "...                                    ...       ...        ...   \n",
       "399533    TRAVEL CARD WALLET I LOVE LONDON       216       0.58   \n",
       "399534             NO JUNK MAIL METAL SIGN        72       0.54   \n",
       "399535               METAL SIGN EMPIRE TEA        36       1.10   \n",
       "399536          LOVE POTION MASALA INCENSE        75       0.29   \n",
       "399537  ORIGAMI JASMINE INCENSE/CANDLE SET        30       1.18   \n",
       "\n",
       "               Country  Transaction_Status  InvoiceDay  \n",
       "0       United Kingdom                   0  2018-04-06  \n",
       "1       United Kingdom                   0  2018-04-06  \n",
       "2       United Kingdom                   0  2018-04-06  \n",
       "3       United Kingdom                   0  2018-04-06  \n",
       "4       United Kingdom                   0  2018-04-06  \n",
       "...                ...                 ...         ...  \n",
       "399533  United Kingdom                   0  2018-09-26  \n",
       "399534  United Kingdom                   0  2018-09-26  \n",
       "399535  United Kingdom                   0  2018-09-26  \n",
       "399536  United Kingdom                   0  2018-09-26  \n",
       "399537  United Kingdom                   0  2018-09-26  \n",
       "\n",
       "[398425 rows x 10 columns]"
      ]
     },
     "execution_count": 58,
     "metadata": {},
     "output_type": "execute_result"
    }
   ],
   "source": [
    "df"
   ]
  },
  {
   "cell_type": "code",
   "execution_count": 59,
   "id": "269d4e7f",
   "metadata": {
    "execution": {
     "iopub.execute_input": "2024-04-07T19:30:22.309472Z",
     "iopub.status.busy": "2024-04-07T19:30:22.309069Z",
     "iopub.status.idle": "2024-04-07T19:30:22.343162Z",
     "shell.execute_reply": "2024-04-07T19:30:22.342079Z"
    },
    "papermill": {
     "duration": 0.086694,
     "end_time": "2024-04-07T19:30:22.345244",
     "exception": false,
     "start_time": "2024-04-07T19:30:22.258550",
     "status": "completed"
    },
    "tags": []
   },
   "outputs": [
    {
     "data": {
      "text/plain": [
       "datetime.date(2019, 2, 20)"
      ]
     },
     "execution_count": 59,
     "metadata": {},
     "output_type": "execute_result"
    }
   ],
   "source": [
    "df['InvoiceDay'].max()"
   ]
  },
  {
   "cell_type": "code",
   "execution_count": 60,
   "id": "5e486173",
   "metadata": {
    "execution": {
     "iopub.execute_input": "2024-04-07T19:30:22.445799Z",
     "iopub.status.busy": "2024-04-07T19:30:22.445370Z",
     "iopub.status.idle": "2024-04-07T19:30:22.455984Z",
     "shell.execute_reply": "2024-04-07T19:30:22.454938Z"
    },
    "papermill": {
     "duration": 0.063285,
     "end_time": "2024-04-07T19:30:22.458005",
     "exception": false,
     "start_time": "2024-04-07T19:30:22.394720",
     "status": "completed"
    },
    "tags": []
   },
   "outputs": [
    {
     "data": {
      "text/html": [
       "<div>\n",
       "<style scoped>\n",
       "    .dataframe tbody tr th:only-of-type {\n",
       "        vertical-align: middle;\n",
       "    }\n",
       "\n",
       "    .dataframe tbody tr th {\n",
       "        vertical-align: top;\n",
       "    }\n",
       "\n",
       "    .dataframe thead th {\n",
       "        text-align: right;\n",
       "    }\n",
       "</style>\n",
       "<table border=\"1\" class=\"dataframe\">\n",
       "  <thead>\n",
       "    <tr style=\"text-align: right;\">\n",
       "      <th></th>\n",
       "      <th>CustomerID</th>\n",
       "      <th>Days_Since_Last_Purchase</th>\n",
       "    </tr>\n",
       "  </thead>\n",
       "  <tbody>\n",
       "    <tr>\n",
       "      <th>0</th>\n",
       "      <td>259266.0</td>\n",
       "      <td>325</td>\n",
       "    </tr>\n",
       "    <tr>\n",
       "      <th>1</th>\n",
       "      <td>259287.0</td>\n",
       "      <td>2</td>\n",
       "    </tr>\n",
       "    <tr>\n",
       "      <th>2</th>\n",
       "      <td>259308.0</td>\n",
       "      <td>75</td>\n",
       "    </tr>\n",
       "    <tr>\n",
       "      <th>3</th>\n",
       "      <td>259329.0</td>\n",
       "      <td>18</td>\n",
       "    </tr>\n",
       "    <tr>\n",
       "      <th>4</th>\n",
       "      <td>259350.0</td>\n",
       "      <td>310</td>\n",
       "    </tr>\n",
       "  </tbody>\n",
       "</table>\n",
       "</div>"
      ],
      "text/plain": [
       "   CustomerID  Days_Since_Last_Purchase\n",
       "0    259266.0                       325\n",
       "1    259287.0                         2\n",
       "2    259308.0                        75\n",
       "3    259329.0                        18\n",
       "4    259350.0                       310"
      ]
     },
     "execution_count": 60,
     "metadata": {},
     "output_type": "execute_result"
    }
   ],
   "source": [
    "customer_data.head()"
   ]
  },
  {
   "cell_type": "markdown",
   "id": "50351660",
   "metadata": {
    "papermill": {
     "duration": 0.048923,
     "end_time": "2024-04-07T19:30:22.710305",
     "exception": false,
     "start_time": "2024-04-07T19:30:22.661382",
     "status": "completed"
    },
    "tags": []
   },
   "source": [
    "<a id=\"frequency\"></a>\n",
    "## <b><span style='color:#fcc36d'>Step 4.1.2 |</span><span style='color:#ff6200'> Total Purchase and Total Transactions</span></b>\n"
   ]
  },
  {
   "cell_type": "code",
   "execution_count": 61,
   "id": "8186d463",
   "metadata": {
    "execution": {
     "iopub.execute_input": "2024-04-07T19:30:22.909920Z",
     "iopub.status.busy": "2024-04-07T19:30:22.909484Z",
     "iopub.status.idle": "2024-04-07T19:30:23.007002Z",
     "shell.execute_reply": "2024-04-07T19:30:23.005843Z"
    },
    "papermill": {
     "duration": 0.150444,
     "end_time": "2024-04-07T19:30:23.009245",
     "exception": false,
     "start_time": "2024-04-07T19:30:22.858801",
     "status": "completed"
    },
    "tags": []
   },
   "outputs": [
    {
     "data": {
      "text/html": [
       "<div>\n",
       "<style scoped>\n",
       "    .dataframe tbody tr th:only-of-type {\n",
       "        vertical-align: middle;\n",
       "    }\n",
       "\n",
       "    .dataframe tbody tr th {\n",
       "        vertical-align: top;\n",
       "    }\n",
       "\n",
       "    .dataframe thead th {\n",
       "        text-align: right;\n",
       "    }\n",
       "</style>\n",
       "<table border=\"1\" class=\"dataframe\">\n",
       "  <thead>\n",
       "    <tr style=\"text-align: right;\">\n",
       "      <th></th>\n",
       "      <th>CustomerID</th>\n",
       "      <th>Days_Since_Last_Purchase</th>\n",
       "      <th>Total_Transactions</th>\n",
       "      <th>Total_Products_Purchased</th>\n",
       "    </tr>\n",
       "  </thead>\n",
       "  <tbody>\n",
       "    <tr>\n",
       "      <th>0</th>\n",
       "      <td>259266.0</td>\n",
       "      <td>325</td>\n",
       "      <td>2</td>\n",
       "      <td>0</td>\n",
       "    </tr>\n",
       "    <tr>\n",
       "      <th>1</th>\n",
       "      <td>259287.0</td>\n",
       "      <td>2</td>\n",
       "      <td>6</td>\n",
       "      <td>6417</td>\n",
       "    </tr>\n",
       "    <tr>\n",
       "      <th>2</th>\n",
       "      <td>259308.0</td>\n",
       "      <td>75</td>\n",
       "      <td>4</td>\n",
       "      <td>6996</td>\n",
       "    </tr>\n",
       "    <tr>\n",
       "      <th>3</th>\n",
       "      <td>259329.0</td>\n",
       "      <td>18</td>\n",
       "      <td>1</td>\n",
       "      <td>1890</td>\n",
       "    </tr>\n",
       "    <tr>\n",
       "      <th>4</th>\n",
       "      <td>259350.0</td>\n",
       "      <td>310</td>\n",
       "      <td>1</td>\n",
       "      <td>588</td>\n",
       "    </tr>\n",
       "  </tbody>\n",
       "</table>\n",
       "</div>"
      ],
      "text/plain": [
       "   CustomerID  Days_Since_Last_Purchase  Total_Transactions  \\\n",
       "0    259266.0                       325                   2   \n",
       "1    259287.0                         2                   6   \n",
       "2    259308.0                        75                   4   \n",
       "3    259329.0                        18                   1   \n",
       "4    259350.0                       310                   1   \n",
       "\n",
       "   Total_Products_Purchased  \n",
       "0                         0  \n",
       "1                      6417  \n",
       "2                      6996  \n",
       "3                      1890  \n",
       "4                       588  "
      ]
     },
     "execution_count": 61,
     "metadata": {},
     "output_type": "execute_result"
    }
   ],
   "source": [
    "total_transactions = df.groupby('CustomerID')['InvoiceNo'].nunique().reset_index()\n",
    "total_transactions.rename(columns={'InvoiceNo': 'Total_Transactions'}, inplace=True)\n",
    "\n",
    "total_products_purchased = df.groupby('CustomerID')['Quantity'].sum().reset_index()\n",
    "total_products_purchased.rename(columns={'Quantity': 'Total_Products_Purchased'}, inplace=True)\n",
    "\n",
    "customer_data = pd.merge(customer_data, total_transactions, on='CustomerID')\n",
    "customer_data = pd.merge(customer_data, total_products_purchased, on='CustomerID')\n",
    "\n",
    "customer_data.head()"
   ]
  },
  {
   "cell_type": "markdown",
   "id": "43c810ed",
   "metadata": {
    "papermill": {
     "duration": 0.049213,
     "end_time": "2024-04-07T19:30:23.109308",
     "exception": false,
     "start_time": "2024-04-07T19:30:23.060095",
     "status": "completed"
    },
    "tags": []
   },
   "source": [
    "<a id=\"monetary\"></a>\n",
    "## <b><span style='color:#fcc36d'>Step 4.1.3 |</span><span style='color:#ff6200'>Total spend and Avrage_Transiction_Value</span></b>\n"
   ]
  },
  {
   "cell_type": "code",
   "execution_count": 62,
   "id": "99727570",
   "metadata": {
    "execution": {
     "iopub.execute_input": "2024-04-07T19:30:23.311249Z",
     "iopub.status.busy": "2024-04-07T19:30:23.310874Z",
     "iopub.status.idle": "2024-04-07T19:30:23.350359Z",
     "shell.execute_reply": "2024-04-07T19:30:23.349614Z"
    },
    "papermill": {
     "duration": 0.093524,
     "end_time": "2024-04-07T19:30:23.352358",
     "exception": false,
     "start_time": "2024-04-07T19:30:23.258834",
     "status": "completed"
    },
    "tags": []
   },
   "outputs": [
    {
     "data": {
      "text/html": [
       "<div>\n",
       "<style scoped>\n",
       "    .dataframe tbody tr th:only-of-type {\n",
       "        vertical-align: middle;\n",
       "    }\n",
       "\n",
       "    .dataframe tbody tr th {\n",
       "        vertical-align: top;\n",
       "    }\n",
       "\n",
       "    .dataframe thead th {\n",
       "        text-align: right;\n",
       "    }\n",
       "</style>\n",
       "<table border=\"1\" class=\"dataframe\">\n",
       "  <thead>\n",
       "    <tr style=\"text-align: right;\">\n",
       "      <th></th>\n",
       "      <th>CustomerID</th>\n",
       "      <th>Days_Since_Last_Purchase</th>\n",
       "      <th>Total_Transactions</th>\n",
       "      <th>Total_Products_Purchased</th>\n",
       "      <th>Total_Spend</th>\n",
       "      <th>Average_Transaction_Value</th>\n",
       "    </tr>\n",
       "  </thead>\n",
       "  <tbody>\n",
       "    <tr>\n",
       "      <th>0</th>\n",
       "      <td>259266.0</td>\n",
       "      <td>325</td>\n",
       "      <td>2</td>\n",
       "      <td>0</td>\n",
       "      <td>0.00</td>\n",
       "      <td>0.00</td>\n",
       "    </tr>\n",
       "    <tr>\n",
       "      <th>1</th>\n",
       "      <td>259287.0</td>\n",
       "      <td>2</td>\n",
       "      <td>6</td>\n",
       "      <td>6417</td>\n",
       "      <td>14928.18</td>\n",
       "      <td>2488.03</td>\n",
       "    </tr>\n",
       "    <tr>\n",
       "      <th>2</th>\n",
       "      <td>259308.0</td>\n",
       "      <td>75</td>\n",
       "      <td>4</td>\n",
       "      <td>6996</td>\n",
       "      <td>5991.12</td>\n",
       "      <td>1497.78</td>\n",
       "    </tr>\n",
       "    <tr>\n",
       "      <th>3</th>\n",
       "      <td>259329.0</td>\n",
       "      <td>18</td>\n",
       "      <td>1</td>\n",
       "      <td>1890</td>\n",
       "      <td>6043.92</td>\n",
       "      <td>6043.92</td>\n",
       "    </tr>\n",
       "    <tr>\n",
       "      <th>4</th>\n",
       "      <td>259350.0</td>\n",
       "      <td>310</td>\n",
       "      <td>1</td>\n",
       "      <td>588</td>\n",
       "      <td>1221.60</td>\n",
       "      <td>1221.60</td>\n",
       "    </tr>\n",
       "  </tbody>\n",
       "</table>\n",
       "</div>"
      ],
      "text/plain": [
       "   CustomerID  Days_Since_Last_Purchase  Total_Transactions  \\\n",
       "0    259266.0                       325                   2   \n",
       "1    259287.0                         2                   6   \n",
       "2    259308.0                        75                   4   \n",
       "3    259329.0                        18                   1   \n",
       "4    259350.0                       310                   1   \n",
       "\n",
       "   Total_Products_Purchased  Total_Spend  Average_Transaction_Value  \n",
       "0                         0         0.00                       0.00  \n",
       "1                      6417     14928.18                    2488.03  \n",
       "2                      6996      5991.12                    1497.78  \n",
       "3                      1890      6043.92                    6043.92  \n",
       "4                       588      1221.60                    1221.60  "
      ]
     },
     "execution_count": 62,
     "metadata": {},
     "output_type": "execute_result"
    }
   ],
   "source": [
    "df['Total_Spend'] = df['UnitPrice'] * df['Quantity']\n",
    "total_spend = df.groupby('CustomerID')['Total_Spend'].sum().reset_index()\n",
    "\n",
    "average_transaction_value = total_spend.merge(total_transactions, on='CustomerID')\n",
    "average_transaction_value['Average_Transaction_Value'] = average_transaction_value['Total_Spend'] / average_transaction_value['Total_Transactions']\n",
    "\n",
    "customer_data = pd.merge(customer_data, total_spend, on='CustomerID')\n",
    "customer_data = pd.merge(customer_data, average_transaction_value[['CustomerID', 'Average_Transaction_Value']], on='CustomerID')\n",
    "\n",
    "customer_data.head()"
   ]
  },
  {
   "cell_type": "markdown",
   "id": "b4e63998",
   "metadata": {
    "papermill": {
     "duration": 0.049888,
     "end_time": "2024-04-07T19:30:23.452514",
     "exception": false,
     "start_time": "2024-04-07T19:30:23.402626",
     "status": "completed"
    },
    "tags": []
   },
   "source": [
    "<a id=\"product_diversity\"></a>\n",
    "# <b><span style='color:#fcc36d'>Step 4.2 |</span><span style='color:#ff6200'> Number of unique products purchased by each customer</span></b>\n"
   ]
  },
  {
   "cell_type": "code",
   "execution_count": 63,
   "id": "c2886d97",
   "metadata": {
    "execution": {
     "iopub.execute_input": "2024-04-07T19:30:23.659776Z",
     "iopub.status.busy": "2024-04-07T19:30:23.659166Z",
     "iopub.status.idle": "2024-04-07T19:30:23.807595Z",
     "shell.execute_reply": "2024-04-07T19:30:23.806586Z"
    },
    "papermill": {
     "duration": 0.20284,
     "end_time": "2024-04-07T19:30:23.809658",
     "exception": false,
     "start_time": "2024-04-07T19:30:23.606818",
     "status": "completed"
    },
    "tags": []
   },
   "outputs": [
    {
     "data": {
      "text/html": [
       "<div>\n",
       "<style scoped>\n",
       "    .dataframe tbody tr th:only-of-type {\n",
       "        vertical-align: middle;\n",
       "    }\n",
       "\n",
       "    .dataframe tbody tr th {\n",
       "        vertical-align: top;\n",
       "    }\n",
       "\n",
       "    .dataframe thead th {\n",
       "        text-align: right;\n",
       "    }\n",
       "</style>\n",
       "<table border=\"1\" class=\"dataframe\">\n",
       "  <thead>\n",
       "    <tr style=\"text-align: right;\">\n",
       "      <th></th>\n",
       "      <th>CustomerID</th>\n",
       "      <th>Days_Since_Last_Purchase</th>\n",
       "      <th>Total_Transactions</th>\n",
       "      <th>Total_Products_Purchased</th>\n",
       "      <th>Total_Spend</th>\n",
       "      <th>Average_Transaction_Value</th>\n",
       "      <th>Unique_Products_Purchased</th>\n",
       "    </tr>\n",
       "  </thead>\n",
       "  <tbody>\n",
       "    <tr>\n",
       "      <th>0</th>\n",
       "      <td>259266.0</td>\n",
       "      <td>325</td>\n",
       "      <td>2</td>\n",
       "      <td>0</td>\n",
       "      <td>0.00</td>\n",
       "      <td>0.00</td>\n",
       "      <td>1</td>\n",
       "    </tr>\n",
       "    <tr>\n",
       "      <th>1</th>\n",
       "      <td>259287.0</td>\n",
       "      <td>2</td>\n",
       "      <td>6</td>\n",
       "      <td>6417</td>\n",
       "      <td>14928.18</td>\n",
       "      <td>2488.03</td>\n",
       "      <td>85</td>\n",
       "    </tr>\n",
       "    <tr>\n",
       "      <th>2</th>\n",
       "      <td>259308.0</td>\n",
       "      <td>75</td>\n",
       "      <td>4</td>\n",
       "      <td>6996</td>\n",
       "      <td>5991.12</td>\n",
       "      <td>1497.78</td>\n",
       "      <td>21</td>\n",
       "    </tr>\n",
       "    <tr>\n",
       "      <th>3</th>\n",
       "      <td>259329.0</td>\n",
       "      <td>18</td>\n",
       "      <td>1</td>\n",
       "      <td>1890</td>\n",
       "      <td>6043.92</td>\n",
       "      <td>6043.92</td>\n",
       "      <td>71</td>\n",
       "    </tr>\n",
       "    <tr>\n",
       "      <th>4</th>\n",
       "      <td>259350.0</td>\n",
       "      <td>310</td>\n",
       "      <td>1</td>\n",
       "      <td>588</td>\n",
       "      <td>1221.60</td>\n",
       "      <td>1221.60</td>\n",
       "      <td>16</td>\n",
       "    </tr>\n",
       "  </tbody>\n",
       "</table>\n",
       "</div>"
      ],
      "text/plain": [
       "   CustomerID  Days_Since_Last_Purchase  Total_Transactions  \\\n",
       "0    259266.0                       325                   2   \n",
       "1    259287.0                         2                   6   \n",
       "2    259308.0                        75                   4   \n",
       "3    259329.0                        18                   1   \n",
       "4    259350.0                       310                   1   \n",
       "\n",
       "   Total_Products_Purchased  Total_Spend  Average_Transaction_Value  \\\n",
       "0                         0         0.00                       0.00   \n",
       "1                      6417     14928.18                    2488.03   \n",
       "2                      6996      5991.12                    1497.78   \n",
       "3                      1890      6043.92                    6043.92   \n",
       "4                       588      1221.60                    1221.60   \n",
       "\n",
       "   Unique_Products_Purchased  \n",
       "0                          1  \n",
       "1                         85  \n",
       "2                         21  \n",
       "3                         71  \n",
       "4                         16  "
      ]
     },
     "execution_count": 63,
     "metadata": {},
     "output_type": "execute_result"
    }
   ],
   "source": [
    "unique_products_purchased = df.groupby('CustomerID')['StockCode'].nunique().reset_index()\n",
    "unique_products_purchased.rename(columns={'StockCode': 'Unique_Products_Purchased'}, inplace=True)\n",
    "\n",
    "customer_data = pd.merge(customer_data, unique_products_purchased, on='CustomerID')\n",
    "\n",
    "customer_data.head()"
   ]
  },
  {
   "cell_type": "markdown",
   "id": "cae3e854",
   "metadata": {
    "papermill": {
     "duration": 0.050093,
     "end_time": "2024-04-07T19:30:23.911733",
     "exception": false,
     "start_time": "2024-04-07T19:30:23.861640",
     "status": "completed"
    },
    "tags": []
   },
   "source": [
    "<a id=\"behaviroal_features\"></a>\n",
    "# <b><span style='color:#fcc36d'>Step 4.3 |</span><span style='color:#ff6200'>Average days between Purches & favroite Day and Hour</span></b>"
   ]
  },
  {
   "cell_type": "code",
   "execution_count": 64,
   "id": "e2e406c7",
   "metadata": {
    "execution": {
     "iopub.execute_input": "2024-04-07T19:30:24.220925Z",
     "iopub.status.busy": "2024-04-07T19:30:24.220494Z",
     "iopub.status.idle": "2024-04-07T19:30:30.461809Z",
     "shell.execute_reply": "2024-04-07T19:30:30.460727Z"
    },
    "papermill": {
     "duration": 6.296778,
     "end_time": "2024-04-07T19:30:30.464376",
     "exception": false,
     "start_time": "2024-04-07T19:30:24.167598",
     "status": "completed"
    },
    "tags": []
   },
   "outputs": [
    {
     "data": {
      "text/html": [
       "<div>\n",
       "<style scoped>\n",
       "    .dataframe tbody tr th:only-of-type {\n",
       "        vertical-align: middle;\n",
       "    }\n",
       "\n",
       "    .dataframe tbody tr th {\n",
       "        vertical-align: top;\n",
       "    }\n",
       "\n",
       "    .dataframe thead th {\n",
       "        text-align: right;\n",
       "    }\n",
       "</style>\n",
       "<table border=\"1\" class=\"dataframe\">\n",
       "  <thead>\n",
       "    <tr style=\"text-align: right;\">\n",
       "      <th></th>\n",
       "      <th>CustomerID</th>\n",
       "      <th>Days_Since_Last_Purchase</th>\n",
       "      <th>Total_Transactions</th>\n",
       "      <th>Total_Products_Purchased</th>\n",
       "      <th>Total_Spend</th>\n",
       "      <th>Average_Transaction_Value</th>\n",
       "      <th>Unique_Products_Purchased</th>\n",
       "      <th>Average_Days_Between_Purchases</th>\n",
       "      <th>Day_Of_Week</th>\n",
       "      <th>Hour</th>\n",
       "    </tr>\n",
       "  </thead>\n",
       "  <tbody>\n",
       "    <tr>\n",
       "      <th>0</th>\n",
       "      <td>259266.0</td>\n",
       "      <td>325</td>\n",
       "      <td>2</td>\n",
       "      <td>0</td>\n",
       "      <td>0.00</td>\n",
       "      <td>0.00</td>\n",
       "      <td>1</td>\n",
       "      <td>0.000000</td>\n",
       "      <td>6</td>\n",
       "      <td>6</td>\n",
       "    </tr>\n",
       "    <tr>\n",
       "      <th>1</th>\n",
       "      <td>259287.0</td>\n",
       "      <td>2</td>\n",
       "      <td>6</td>\n",
       "      <td>6417</td>\n",
       "      <td>14928.18</td>\n",
       "      <td>2488.03</td>\n",
       "      <td>85</td>\n",
       "      <td>2.100000</td>\n",
       "      <td>5</td>\n",
       "      <td>8</td>\n",
       "    </tr>\n",
       "    <tr>\n",
       "      <th>2</th>\n",
       "      <td>259308.0</td>\n",
       "      <td>75</td>\n",
       "      <td>4</td>\n",
       "      <td>6996</td>\n",
       "      <td>5991.12</td>\n",
       "      <td>1497.78</td>\n",
       "      <td>21</td>\n",
       "      <td>10.884615</td>\n",
       "      <td>1</td>\n",
       "      <td>15</td>\n",
       "    </tr>\n",
       "    <tr>\n",
       "      <th>3</th>\n",
       "      <td>259329.0</td>\n",
       "      <td>18</td>\n",
       "      <td>1</td>\n",
       "      <td>1890</td>\n",
       "      <td>6043.92</td>\n",
       "      <td>6043.92</td>\n",
       "      <td>71</td>\n",
       "      <td>0.000000</td>\n",
       "      <td>5</td>\n",
       "      <td>5</td>\n",
       "    </tr>\n",
       "    <tr>\n",
       "      <th>4</th>\n",
       "      <td>259350.0</td>\n",
       "      <td>310</td>\n",
       "      <td>1</td>\n",
       "      <td>588</td>\n",
       "      <td>1221.60</td>\n",
       "      <td>1221.60</td>\n",
       "      <td>16</td>\n",
       "      <td>0.000000</td>\n",
       "      <td>0</td>\n",
       "      <td>12</td>\n",
       "    </tr>\n",
       "  </tbody>\n",
       "</table>\n",
       "</div>"
      ],
      "text/plain": [
       "   CustomerID  Days_Since_Last_Purchase  Total_Transactions  \\\n",
       "0    259266.0                       325                   2   \n",
       "1    259287.0                         2                   6   \n",
       "2    259308.0                        75                   4   \n",
       "3    259329.0                        18                   1   \n",
       "4    259350.0                       310                   1   \n",
       "\n",
       "   Total_Products_Purchased  Total_Spend  Average_Transaction_Value  \\\n",
       "0                         0         0.00                       0.00   \n",
       "1                      6417     14928.18                    2488.03   \n",
       "2                      6996      5991.12                    1497.78   \n",
       "3                      1890      6043.92                    6043.92   \n",
       "4                       588      1221.60                    1221.60   \n",
       "\n",
       "   Unique_Products_Purchased  Average_Days_Between_Purchases  Day_Of_Week  \\\n",
       "0                          1                        0.000000            6   \n",
       "1                         85                        2.100000            5   \n",
       "2                         21                       10.884615            1   \n",
       "3                         71                        0.000000            5   \n",
       "4                         16                        0.000000            0   \n",
       "\n",
       "   Hour  \n",
       "0     6  \n",
       "1     8  \n",
       "2    15  \n",
       "3     5  \n",
       "4    12  "
      ]
     },
     "execution_count": 64,
     "metadata": {},
     "output_type": "execute_result"
    }
   ],
   "source": [
    "df['Day_Of_Week'] = df['InvoiceDate'].dt.dayofweek\n",
    "df['Hour'] = df['InvoiceDate'].dt.hour\n",
    "\n",
    "days_between_purchases = df.groupby('CustomerID')['InvoiceDay'].apply(lambda x: (x.sort_values().diff().dropna()).apply(lambda y: y.days))\n",
    "average_days_between_purchases = days_between_purchases.groupby('CustomerID').mean().reset_index()\n",
    "average_days_between_purchases.rename(columns={'InvoiceDay': 'Average_Days_Between_Purchases'}, inplace=True)\n",
    "\n",
    "favorite_shopping_day = df.groupby(['CustomerID', 'Day_Of_Week']).size().reset_index(name='Count')\n",
    "favorite_shopping_day = favorite_shopping_day.loc[favorite_shopping_day.groupby('CustomerID')['Count'].idxmax()][['CustomerID', 'Day_Of_Week']]\n",
    "\n",
    "favorite_shopping_hour = df.groupby(['CustomerID', 'Hour']).size().reset_index(name='Count')\n",
    "favorite_shopping_hour = favorite_shopping_hour.loc[favorite_shopping_hour.groupby('CustomerID')['Count'].idxmax()][['CustomerID', 'Hour']]\n",
    "\n",
    "customer_data = pd.merge(customer_data, average_days_between_purchases, on='CustomerID')\n",
    "customer_data = pd.merge(customer_data, favorite_shopping_day, on='CustomerID')\n",
    "customer_data = pd.merge(customer_data, favorite_shopping_hour, on='CustomerID')\n",
    "\n",
    "customer_data.head()"
   ]
  },
  {
   "cell_type": "markdown",
   "id": "4ca37916",
   "metadata": {
    "papermill": {
     "duration": 0.051481,
     "end_time": "2024-04-07T19:30:30.566837",
     "exception": false,
     "start_time": "2024-04-07T19:30:30.515356",
     "status": "completed"
    },
    "tags": []
   },
   "source": [
    "<a id=\"geographical_features\"></a>\n",
    "# <b><span style='color:#fcc36d'>Step 4.4 |</span><span style='color:#ff6200'> Geographic Features</span></b>\n"
   ]
  },
  {
   "cell_type": "code",
   "execution_count": 65,
   "id": "5ddf16cf",
   "metadata": {
    "execution": {
     "iopub.execute_input": "2024-04-07T19:30:30.774919Z",
     "iopub.status.busy": "2024-04-07T19:30:30.774496Z",
     "iopub.status.idle": "2024-04-07T19:30:30.815230Z",
     "shell.execute_reply": "2024-04-07T19:30:30.814395Z"
    },
    "papermill": {
     "duration": 0.096102,
     "end_time": "2024-04-07T19:30:30.817041",
     "exception": false,
     "start_time": "2024-04-07T19:30:30.720939",
     "status": "completed"
    },
    "tags": []
   },
   "outputs": [
    {
     "data": {
      "text/plain": [
       "Country\n",
       "United Kingdom    0.890928\n",
       "Germany           0.022747\n",
       "France            0.020312\n",
       "EIRE              0.018493\n",
       "Spain             0.006179\n",
       "Name: proportion, dtype: float64"
      ]
     },
     "execution_count": 65,
     "metadata": {},
     "output_type": "execute_result"
    }
   ],
   "source": [
    "df['Country'].value_counts(normalize=True).head()"
   ]
  },
  {
   "cell_type": "code",
   "execution_count": 66,
   "id": "2b52de85",
   "metadata": {
    "execution": {
     "iopub.execute_input": "2024-04-07T19:30:31.126503Z",
     "iopub.status.busy": "2024-04-07T19:30:31.125784Z",
     "iopub.status.idle": "2024-04-07T19:30:31.200345Z",
     "shell.execute_reply": "2024-04-07T19:30:31.199320Z"
    },
    "papermill": {
     "duration": 0.129145,
     "end_time": "2024-04-07T19:30:31.202738",
     "exception": false,
     "start_time": "2024-04-07T19:30:31.073593",
     "status": "completed"
    },
    "tags": []
   },
   "outputs": [
    {
     "data": {
      "text/html": [
       "<div>\n",
       "<style scoped>\n",
       "    .dataframe tbody tr th:only-of-type {\n",
       "        vertical-align: middle;\n",
       "    }\n",
       "\n",
       "    .dataframe tbody tr th {\n",
       "        vertical-align: top;\n",
       "    }\n",
       "\n",
       "    .dataframe thead th {\n",
       "        text-align: right;\n",
       "    }\n",
       "</style>\n",
       "<table border=\"1\" class=\"dataframe\">\n",
       "  <thead>\n",
       "    <tr style=\"text-align: right;\">\n",
       "      <th></th>\n",
       "      <th>CustomerID</th>\n",
       "      <th>Days_Since_Last_Purchase</th>\n",
       "      <th>Total_Transactions</th>\n",
       "      <th>Total_Products_Purchased</th>\n",
       "      <th>Total_Spend</th>\n",
       "      <th>Average_Transaction_Value</th>\n",
       "      <th>Unique_Products_Purchased</th>\n",
       "      <th>Average_Days_Between_Purchases</th>\n",
       "      <th>Day_Of_Week</th>\n",
       "      <th>Hour</th>\n",
       "      <th>Is_UK</th>\n",
       "    </tr>\n",
       "  </thead>\n",
       "  <tbody>\n",
       "    <tr>\n",
       "      <th>0</th>\n",
       "      <td>259266.0</td>\n",
       "      <td>325</td>\n",
       "      <td>2</td>\n",
       "      <td>0</td>\n",
       "      <td>0.00</td>\n",
       "      <td>0.00</td>\n",
       "      <td>1</td>\n",
       "      <td>0.000000</td>\n",
       "      <td>6</td>\n",
       "      <td>6</td>\n",
       "      <td>1</td>\n",
       "    </tr>\n",
       "    <tr>\n",
       "      <th>1</th>\n",
       "      <td>259287.0</td>\n",
       "      <td>2</td>\n",
       "      <td>6</td>\n",
       "      <td>6417</td>\n",
       "      <td>14928.18</td>\n",
       "      <td>2488.03</td>\n",
       "      <td>85</td>\n",
       "      <td>2.100000</td>\n",
       "      <td>5</td>\n",
       "      <td>8</td>\n",
       "      <td>0</td>\n",
       "    </tr>\n",
       "    <tr>\n",
       "      <th>2</th>\n",
       "      <td>259308.0</td>\n",
       "      <td>75</td>\n",
       "      <td>4</td>\n",
       "      <td>6996</td>\n",
       "      <td>5991.12</td>\n",
       "      <td>1497.78</td>\n",
       "      <td>21</td>\n",
       "      <td>10.884615</td>\n",
       "      <td>1</td>\n",
       "      <td>15</td>\n",
       "      <td>0</td>\n",
       "    </tr>\n",
       "    <tr>\n",
       "      <th>3</th>\n",
       "      <td>259329.0</td>\n",
       "      <td>18</td>\n",
       "      <td>1</td>\n",
       "      <td>1890</td>\n",
       "      <td>6043.92</td>\n",
       "      <td>6043.92</td>\n",
       "      <td>71</td>\n",
       "      <td>0.000000</td>\n",
       "      <td>5</td>\n",
       "      <td>5</td>\n",
       "      <td>0</td>\n",
       "    </tr>\n",
       "    <tr>\n",
       "      <th>4</th>\n",
       "      <td>259350.0</td>\n",
       "      <td>310</td>\n",
       "      <td>1</td>\n",
       "      <td>588</td>\n",
       "      <td>1221.60</td>\n",
       "      <td>1221.60</td>\n",
       "      <td>16</td>\n",
       "      <td>0.000000</td>\n",
       "      <td>0</td>\n",
       "      <td>12</td>\n",
       "      <td>0</td>\n",
       "    </tr>\n",
       "  </tbody>\n",
       "</table>\n",
       "</div>"
      ],
      "text/plain": [
       "   CustomerID  Days_Since_Last_Purchase  Total_Transactions  \\\n",
       "0    259266.0                       325                   2   \n",
       "1    259287.0                         2                   6   \n",
       "2    259308.0                        75                   4   \n",
       "3    259329.0                        18                   1   \n",
       "4    259350.0                       310                   1   \n",
       "\n",
       "   Total_Products_Purchased  Total_Spend  Average_Transaction_Value  \\\n",
       "0                         0         0.00                       0.00   \n",
       "1                      6417     14928.18                    2488.03   \n",
       "2                      6996      5991.12                    1497.78   \n",
       "3                      1890      6043.92                    6043.92   \n",
       "4                       588      1221.60                    1221.60   \n",
       "\n",
       "   Unique_Products_Purchased  Average_Days_Between_Purchases  Day_Of_Week  \\\n",
       "0                          1                        0.000000            6   \n",
       "1                         85                        2.100000            5   \n",
       "2                         21                       10.884615            1   \n",
       "3                         71                        0.000000            5   \n",
       "4                         16                        0.000000            0   \n",
       "\n",
       "   Hour  Is_UK  \n",
       "0     6      1  \n",
       "1     8      0  \n",
       "2    15      0  \n",
       "3     5      0  \n",
       "4    12      0  "
      ]
     },
     "execution_count": 66,
     "metadata": {},
     "output_type": "execute_result"
    }
   ],
   "source": [
    "customer_country = df.groupby(['CustomerID', 'Country']).size().reset_index(name='Number_of_Transactions')\n",
    "\n",
    "customer_main_country = customer_country.sort_values('Number_of_Transactions', ascending=False).drop_duplicates('CustomerID')\n",
    "\n",
    "customer_main_country['Is_UK'] = customer_main_country['Country'].apply(lambda x: 1 if x == 'United Kingdom' else 0)\n",
    "customer_data = pd.merge(customer_data, customer_main_country[['CustomerID', 'Is_UK']], on='CustomerID', how='left')\n",
    "customer_data.head()"
   ]
  },
  {
   "cell_type": "code",
   "execution_count": 67,
   "id": "9e85ba7c",
   "metadata": {
    "execution": {
     "iopub.execute_input": "2024-04-07T19:30:31.309108Z",
     "iopub.status.busy": "2024-04-07T19:30:31.308721Z",
     "iopub.status.idle": "2024-04-07T19:30:31.316643Z",
     "shell.execute_reply": "2024-04-07T19:30:31.315617Z"
    },
    "papermill": {
     "duration": 0.063484,
     "end_time": "2024-04-07T19:30:31.318719",
     "exception": false,
     "start_time": "2024-04-07T19:30:31.255235",
     "status": "completed"
    },
    "tags": []
   },
   "outputs": [
    {
     "data": {
      "text/plain": [
       "Is_UK\n",
       "1    3860\n",
       "0     416\n",
       "Name: count, dtype: int64"
      ]
     },
     "execution_count": 67,
     "metadata": {},
     "output_type": "execute_result"
    }
   ],
   "source": [
    "customer_data['Is_UK'].value_counts()"
   ]
  },
  {
   "cell_type": "markdown",
   "id": "b3771a58",
   "metadata": {
    "papermill": {
     "duration": 0.051361,
     "end_time": "2024-04-07T19:30:31.422946",
     "exception": false,
     "start_time": "2024-04-07T19:30:31.371585",
     "status": "completed"
    },
    "tags": []
   },
   "source": [
    "<a id=\"cancellation_insights\"></a>\n",
    "# <b><span style='color:#fcc36d'>Step 4.5 |</span><span style='color:#ff6200'> Cancellation Insights</span></b>\n"
   ]
  },
  {
   "cell_type": "code",
   "execution_count": 68,
   "id": "3b740435",
   "metadata": {
    "execution": {
     "iopub.execute_input": "2024-04-07T19:30:31.629489Z",
     "iopub.status.busy": "2024-04-07T19:30:31.629061Z",
     "iopub.status.idle": "2024-04-07T19:30:31.729716Z",
     "shell.execute_reply": "2024-04-07T19:30:31.728842Z"
    },
    "papermill": {
     "duration": 0.155192,
     "end_time": "2024-04-07T19:30:31.731677",
     "exception": false,
     "start_time": "2024-04-07T19:30:31.576485",
     "status": "completed"
    },
    "tags": []
   },
   "outputs": [
    {
     "data": {
      "text/html": [
       "<div>\n",
       "<style scoped>\n",
       "    .dataframe tbody tr th:only-of-type {\n",
       "        vertical-align: middle;\n",
       "    }\n",
       "\n",
       "    .dataframe tbody tr th {\n",
       "        vertical-align: top;\n",
       "    }\n",
       "\n",
       "    .dataframe thead th {\n",
       "        text-align: right;\n",
       "    }\n",
       "</style>\n",
       "<table border=\"1\" class=\"dataframe\">\n",
       "  <thead>\n",
       "    <tr style=\"text-align: right;\">\n",
       "      <th></th>\n",
       "      <th>CustomerID</th>\n",
       "      <th>Days_Since_Last_Purchase</th>\n",
       "      <th>Total_Transactions</th>\n",
       "      <th>Total_Products_Purchased</th>\n",
       "      <th>Total_Spend</th>\n",
       "      <th>Average_Transaction_Value</th>\n",
       "      <th>Unique_Products_Purchased</th>\n",
       "      <th>Average_Days_Between_Purchases</th>\n",
       "      <th>Day_Of_Week</th>\n",
       "      <th>Hour</th>\n",
       "      <th>Is_UK</th>\n",
       "      <th>Cancellation_Frequency</th>\n",
       "      <th>Cancellation_Rate</th>\n",
       "    </tr>\n",
       "  </thead>\n",
       "  <tbody>\n",
       "    <tr>\n",
       "      <th>0</th>\n",
       "      <td>259266.0</td>\n",
       "      <td>325</td>\n",
       "      <td>2</td>\n",
       "      <td>0</td>\n",
       "      <td>0.00</td>\n",
       "      <td>0.00</td>\n",
       "      <td>1</td>\n",
       "      <td>0.000000</td>\n",
       "      <td>6</td>\n",
       "      <td>6</td>\n",
       "      <td>1</td>\n",
       "      <td>1.0</td>\n",
       "      <td>0.5</td>\n",
       "    </tr>\n",
       "    <tr>\n",
       "      <th>1</th>\n",
       "      <td>259287.0</td>\n",
       "      <td>2</td>\n",
       "      <td>6</td>\n",
       "      <td>6417</td>\n",
       "      <td>14928.18</td>\n",
       "      <td>2488.03</td>\n",
       "      <td>85</td>\n",
       "      <td>2.100000</td>\n",
       "      <td>5</td>\n",
       "      <td>8</td>\n",
       "      <td>0</td>\n",
       "      <td>0.0</td>\n",
       "      <td>0.0</td>\n",
       "    </tr>\n",
       "    <tr>\n",
       "      <th>2</th>\n",
       "      <td>259308.0</td>\n",
       "      <td>75</td>\n",
       "      <td>4</td>\n",
       "      <td>6996</td>\n",
       "      <td>5991.12</td>\n",
       "      <td>1497.78</td>\n",
       "      <td>21</td>\n",
       "      <td>10.884615</td>\n",
       "      <td>1</td>\n",
       "      <td>15</td>\n",
       "      <td>0</td>\n",
       "      <td>0.0</td>\n",
       "      <td>0.0</td>\n",
       "    </tr>\n",
       "    <tr>\n",
       "      <th>3</th>\n",
       "      <td>259329.0</td>\n",
       "      <td>18</td>\n",
       "      <td>1</td>\n",
       "      <td>1890</td>\n",
       "      <td>6043.92</td>\n",
       "      <td>6043.92</td>\n",
       "      <td>71</td>\n",
       "      <td>0.000000</td>\n",
       "      <td>5</td>\n",
       "      <td>5</td>\n",
       "      <td>0</td>\n",
       "      <td>0.0</td>\n",
       "      <td>0.0</td>\n",
       "    </tr>\n",
       "    <tr>\n",
       "      <th>4</th>\n",
       "      <td>259350.0</td>\n",
       "      <td>310</td>\n",
       "      <td>1</td>\n",
       "      <td>588</td>\n",
       "      <td>1221.60</td>\n",
       "      <td>1221.60</td>\n",
       "      <td>16</td>\n",
       "      <td>0.000000</td>\n",
       "      <td>0</td>\n",
       "      <td>12</td>\n",
       "      <td>0</td>\n",
       "      <td>0.0</td>\n",
       "      <td>0.0</td>\n",
       "    </tr>\n",
       "  </tbody>\n",
       "</table>\n",
       "</div>"
      ],
      "text/plain": [
       "   CustomerID  Days_Since_Last_Purchase  Total_Transactions  \\\n",
       "0    259266.0                       325                   2   \n",
       "1    259287.0                         2                   6   \n",
       "2    259308.0                        75                   4   \n",
       "3    259329.0                        18                   1   \n",
       "4    259350.0                       310                   1   \n",
       "\n",
       "   Total_Products_Purchased  Total_Spend  Average_Transaction_Value  \\\n",
       "0                         0         0.00                       0.00   \n",
       "1                      6417     14928.18                    2488.03   \n",
       "2                      6996      5991.12                    1497.78   \n",
       "3                      1890      6043.92                    6043.92   \n",
       "4                       588      1221.60                    1221.60   \n",
       "\n",
       "   Unique_Products_Purchased  Average_Days_Between_Purchases  Day_Of_Week  \\\n",
       "0                          1                        0.000000            6   \n",
       "1                         85                        2.100000            5   \n",
       "2                         21                       10.884615            1   \n",
       "3                         71                        0.000000            5   \n",
       "4                         16                        0.000000            0   \n",
       "\n",
       "   Hour  Is_UK  Cancellation_Frequency  Cancellation_Rate  \n",
       "0     6      1                     1.0                0.5  \n",
       "1     8      0                     0.0                0.0  \n",
       "2    15      0                     0.0                0.0  \n",
       "3     5      0                     0.0                0.0  \n",
       "4    12      0                     0.0                0.0  "
      ]
     },
     "execution_count": 68,
     "metadata": {},
     "output_type": "execute_result"
    }
   ],
   "source": [
    "total_transactions = df.groupby('CustomerID')['InvoiceNo'].nunique().reset_index()\n",
    "\n",
    "cancelled_transactions = df[df['Transaction_Status'] == 1]\n",
    "cancellation_frequency = cancelled_transactions.groupby('CustomerID')['InvoiceNo'].nunique().reset_index()\n",
    "cancellation_frequency.rename(columns={'InvoiceNo': 'Cancellation_Frequency'}, inplace=True)\n",
    "\n",
    "customer_data = pd.merge(customer_data, cancellation_frequency, on='CustomerID', how='left')\n",
    "\n",
    "customer_data['Cancellation_Frequency'].fillna(0, inplace=True)\n",
    "\n",
    "customer_data['Cancellation_Rate'] = customer_data['Cancellation_Frequency'] / total_transactions['InvoiceNo']\n",
    "\n",
    "customer_data.head()"
   ]
  },
  {
   "cell_type": "code",
   "execution_count": 69,
   "id": "77f930b0",
   "metadata": {},
   "outputs": [
    {
     "data": {
      "image/png": "[encoded data removed]",
      "text/plain": [
       "<Figure size 640x480 with 1 Axes>"
      ]
     },
     "metadata": {},
     "output_type": "display_data"
    }
   ],
   "source": [
    "mean_tran = customer_data.groupby('Hour')['Total_Spend'].mean()\n",
    "plt.bar(mean_tran.index , mean_tran.values , color='#1f77b4')\n",
    "plt.title('Transactions according to day hours')\n",
    "plt.xlabel('Hour')\n",
    "plt.ylabel('Total Tranactins')\n",
    "plt.show()"
   ]
  },
  {
   "cell_type": "code",
   "execution_count": 70,
   "id": "fb306cb5",
   "metadata": {},
   "outputs": [
    {
     "data": {
      "text/plain": [
       "Text(0.5, 1.0, 'mean transactions per Day')"
      ]
     },
     "execution_count": 70,
     "metadata": {},
     "output_type": "execute_result"
    },
    {
     "data": {
      "image/png": "[encoded data removed]",
      "text/plain": [
       "<Figure size 640x480 with 1 Axes>"
      ]
     },
     "metadata": {},
     "output_type": "display_data"
    }
   ],
   "source": [
    "mean_prod = customer_data.groupby('Day_Of_Week')['Total_Spend'].mean()\n",
    "plt.barh(mean_prod.index , mean_prod.values)\n",
    "plt.xlabel('products mean')\n",
    "plt.ylabel('Day')\n",
    "plt.title('mean transactions per Day')"
   ]
  },
  {
   "cell_type": "code",
   "execution_count": 71,
   "id": "4ccaf3ca",
   "metadata": {},
   "outputs": [
    {
     "name": "stdout",
     "output_type": "stream",
     "text": [
      "Cluster Centers:\n",
      "[[-6.39672566e-03 -1.58176427e-03]\n",
      " [-3.09948400e+02 -2.27388786e-03]\n",
      " [-1.67082998e-02  6.31206715e+02]\n",
      " [ 3.09851091e+02 -2.27388786e-03]\n",
      " [ 2.13006159e+00 -2.41252723e-03]]\n"
     ]
    },
    {
     "data": {
      "image/png": "[encoded data removed]",
      "text/plain": [
       "<Figure size 1000x600 with 1 Axes>"
      ]
     },
     "metadata": {},
     "output_type": "display_data"
    }
   ],
   "source": [
    "from sklearn.cluster import KMeans\n",
    "\n",
    "# Select relevant features for clustering (example: 'Quantity' and 'UnitPrice')\n",
    "X = df[['Quantity', 'UnitPrice']]\n",
    "\n",
    "# Normalize the features\n",
    "from sklearn.preprocessing import StandardScaler\n",
    "scaler = StandardScaler()\n",
    "X_scaled = scaler.fit_transform(X)\n",
    "\n",
    "# Initialize KMeans with the desired number of clusters\n",
    "kmeans = KMeans(n_clusters=5, random_state=42)\n",
    "\n",
    "# Fit the model\n",
    "df['Cluster'] = kmeans.fit_predict(X_scaled)\n",
    "\n",
    "# Display cluster centers\n",
    "print(f\"Cluster Centers:\\n{kmeans.cluster_centers_}\")\n",
    "\n",
    "# Visualize the clusters\n",
    "plt.figure(figsize=(10, 6))\n",
    "sns.scatterplot(x='Quantity', y='UnitPrice', hue='Cluster', data=df, palette='Set2')\n",
    "plt.title('Clustering of Transactions by Quantity and Unit Price')\n",
    "plt.xlabel('Quantity')\n",
    "plt.ylabel('Unit Price')\n",
    "plt.legend(title='Cluster')\n",
    "plt.show()\n"
   ]
  }
 ],
 "metadata": {
  "kaggle": {
   "accelerator": "none",
   "dataSources": [
    {
     "datasetId": 1985,
     "sourceId": 3404,
     "sourceType": "datasetVersion"
    },
    {
     "datasetId": 726789,
     "sourceId": 1262574,
     "sourceType": "datasetVersion"
    }
   ],
   "dockerImageVersionId": 30558,
   "isGpuEnabled": false,
   "isInternetEnabled": true,
   "language": "python",
   "sourceType": "notebook"
  },
  "kernelspec": {
   "display_name": "base",
   "language": "python",
   "name": "python3"
  },
  "language_info": {
   "codemirror_mode": {
    "name": "ipython",
    "version": 3
   },
   "file_extension": ".py",
   "mimetype": "text/x-python",
   "name": "python",
   "nbconvert_exporter": "python",
   "pygments_lexer": "ipython3",
   "version": "3.12.4"
  },
  "papermill": {
   "default_parameters": {},
   "duration": 160.00684,
   "end_time": "2024-04-07T19:32:31.860746",
   "environment_variables": {},
   "exception": null,
   "input_path": "__notebook__.ipynb",
   "output_path": "__notebook__.ipynb",
   "parameters": {},
   "start_time": "2024-04-07T19:29:51.853906",
   "version": "2.4.0"
  }
 },
 "nbformat": 4,
 "nbformat_minor": 5
}
